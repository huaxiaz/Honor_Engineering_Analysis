{
 "cells": [
  {
   "cell_type": "code",
   "execution_count": 1,
   "id": "135a732c-cfd2-4678-ba15-c3e784806ab8",
   "metadata": {},
   "outputs": [],
   "source": [
    "import numpy as np"
   ]
  },
  {
   "cell_type": "markdown",
   "id": "e1a5b2a2",
   "metadata": {},
   "source": [
    "# Iterative Algorithm"
   ]
  },
  {
   "cell_type": "markdown",
   "id": "058dc8ed-ef0c-412e-b977-73132ff0cd07",
   "metadata": {},
   "source": [
    "## Overview"
   ]
  },
  {
   "cell_type": "markdown",
   "id": "40f9c2b1",
   "metadata": {},
   "source": [
    "Consider the system of linear equation $A \\mathbf{x} = \\bf{b}$, assume that $A$ is a [square matrix](https://en.wikipedia.org/wiki/Square_matrix) and that there is a unique solution $\\mathbf{x}$. When there are a large number of unknowns (like in the PageRank system for a network having millions of web pages), we begin with a guess at the solution, and then we iteratively improve the guess until it becomes sufficiently close to the actual solution. The main idea is to split the matrix $A$ into two parts by choosing some matrix $M$ of the same size as $A$ and writing:"
   ]
  },
  {
   "cell_type": "markdown",
   "id": "5b87aefe",
   "metadata": {},
   "source": [
    "\\begin{align*}\n",
    "A = M - (M - A)\n",
    "\\end{align*}"
   ]
  },
  {
   "cell_type": "markdown",
   "id": "352e2dc3",
   "metadata": {},
   "source": [
    "Plugging this into our original equation $A \\bf{x} = \\bf{b}$ and rearranging terms, we arrive at the equivalent system"
   ]
  },
  {
   "cell_type": "markdown",
   "id": "2467b5c7",
   "metadata": {},
   "source": [
    "\\begin{align*}\n",
    "M \\mathbf{x} = (M - A)\\mathbf{x} + \\bf{b}\n",
    "\\end{align*}"
   ]
  },
  {
   "cell_type": "markdown",
   "id": "491bdc54",
   "metadata": {},
   "source": [
    "We start with an initial guess 𝒙0 for the solution vector and then generate a sequence of refined guesses $\\mathbf{x_1}$, $\\mathbf{x_2}$, $\\mathbf{x_3}$, ... using the iteration formula:"
   ]
  },
  {
   "cell_type": "markdown",
   "id": "3a828bbc",
   "metadata": {},
   "source": [
    "\\begin{align*}\n",
    "M \\mathbf{x_k} = (M - A)\\mathbf{x_{k-1}} + \\bf{b}\n",
    "\\end{align*}"
   ]
  },
  {
   "cell_type": "markdown",
   "id": "3c917047",
   "metadata": {},
   "source": [
    "or index values $k$ = 1, 2, 3, ... . At each iteration, we solve the linear system for the unknown vector\n",
    "$\\mathbf{x_k}$ given that we have already computed $\\mathbf{x_{k-1}}$. If we ever achieve the equality $\\mathbf{x_k} = \\mathbf{x_{k-1}}$ for some value of $k$, then we can stop because this means 𝒙𝑘 must be a solution. This rarely happens, however; instead, we hope that the entries in $\\mathbf{x_k}$ get closer and closer to those in $\\mathbf{x_{k-1}}$ as$k$ increases. When this happens we say that the sequence of guesses converges to a true solution, in which case we stop at some value of $k$ large enough for the guess $\\mathbf{x_k}$ to be a “good enough” approximate solution."
   ]
  },
  {
   "cell_type": "markdown",
   "id": "81eeddb7",
   "metadata": {},
   "source": [
    "## Jacobi’s method"
   ]
  },
  {
   "cell_type": "markdown",
   "id": "2d80091c-bd29-4455-a720-3db9d6c63de3",
   "metadata": {},
   "source": [
    "In Jacobi’s method, we choose $M$ to be the diagonal part of $A$ (sometimes $M$ is written as $D$ to represent the diagonal matrix)"
   ]
  },
  {
   "cell_type": "markdown",
   "id": "4506debb-5ef0-4da6-ac0b-a5a6cf346aab",
   "metadata": {},
   "source": [
    "\\begin{align*}\n",
    "D_{ij} = \n",
    "\\begin{cases} \n",
    "A_{ij} & \\text{if } i = j, \\\\\n",
    "0 & \\text{if } i \\neq j.\n",
    "\\end{cases}\n",
    "\\end{align*}"
   ]
  },
  {
   "cell_type": "markdown",
   "id": "0b8ec480-57a8-4583-aa16-c244e4994f77",
   "metadata": {},
   "source": [
    "Thee solution to the equation, i.e. the value of $\\mathbf{x}$, is given by the following iterative equation:"
   ]
  },
  {
   "cell_type": "markdown",
   "id": "b3833a12-e7b5-4918-8687-f106083e2447",
   "metadata": {},
   "source": [
    "\\begin{align*}\n",
    "D \\mathbf{x_k} = (D - A)\\mathbf{x_{k-1}} + \\bf{b}\n",
    "\\end{align*}"
   ]
  },
  {
   "cell_type": "markdown",
   "id": "c67b6b0e-4083-468b-a8df-18f7b4383495",
   "metadata": {},
   "source": [
    "\\begin{align*}\n",
    "\\mathbf{x_k} = D^{-1} [(D - A)\\mathbf{x_{k-1}} + \\bf{b}]\n",
    "\\end{align*}"
   ]
  },
  {
   "cell_type": "markdown",
   "id": "4039a3de-57e5-40cb-80d5-9b6ce8298cd8",
   "metadata": {},
   "source": [
    "In some text, $D-A$ is represented in matrix $-R$, where $R$ follows:"
   ]
  },
  {
   "cell_type": "markdown",
   "id": "02183c78-9ec5-41f7-a609-8a31c7215670",
   "metadata": {},
   "source": [
    "\\begin{align*}\n",
    "R_{ij} = \n",
    "\\begin{cases} \n",
    "0 & \\text{if } i = j, \\\\\n",
    "A_{ij} & \\text{if } i \\neq j.\n",
    "\\end{cases}\n",
    "\\end{align*}"
   ]
  },
  {
   "cell_type": "markdown",
   "id": "08009a67-4741-4baf-968e-5f008bcfaada",
   "metadata": {},
   "source": [
    "\\begin{align*}\n",
    "\\mathbf{x_k} = D^{-1}(\\mathbf{b} - R\\mathbf{x_{k-1}})\n",
    "\\end{align*}"
   ]
  },
  {
   "cell_type": "code",
   "execution_count": 21,
   "id": "1d4971b2-0331-4f4a-8408-a63802e190f9",
   "metadata": {},
   "outputs": [],
   "source": [
    "def jacobi(A, b, tolerance=1e-10, max_iterations=10000, x=None):\n",
    "    \"\"\"\n",
    "    Solves the equation Ax=b via the Jacobi iterative method.\n",
    "\n",
    "    Parameters:\n",
    "    A : numpy.ndarray\n",
    "        Coefficient matrix (must be square).\n",
    "    b : numpy.ndarray\n",
    "        Constant terms vector.\n",
    "    tolerance : float, optional\n",
    "        Convergence tolerance. The iteration stops when the relative difference\n",
    "        between consecutive solutions is less than this value.\n",
    "    max_iterations : int, optional\n",
    "        Maximum number of iterations to perform.\n",
    "    x : numpy.ndarray, optional\n",
    "        Initial guess for the solution. If None, will start with a zero vector.\n",
    "\n",
    "    Returns:\n",
    "    x : numpy.ndarray\n",
    "        Approximate solution after convergence or max_iterations.\n",
    "    \"\"\"\n",
    "    # Initialize the initial guess if not provided\n",
    "    if x is None:\n",
    "        x = np.zeros(len(b))\n",
    "        \n",
    "    # Create the matrix R by subtracting the diagonal of A from A\n",
    "    R = A - np.diag(np.diagonal(A))\n",
    "    # Alternative wat\n",
    "    # R = A - np.diagflat(np.diag(A))\n",
    "\n",
    "    # Iterate for a maximum of max_iterations times\n",
    "    for k in range(max_iterations):\n",
    "        # Store the previous solution to check for convergence\n",
    "        x_old = x.copy()\n",
    "\n",
    "        # Update the solution vector using the Jacobi formula\n",
    "        x[:] = (b - np.dot(R, x)) / np.diagonal(A)\n",
    "\n",
    "        # Check for convergence using the relative error with infinity norm\n",
    "        if np.linalg.norm(x - x_old, ord=np.inf) / np.linalg.norm(x, ord=np.inf) < tolerance:\n",
    "            break\n",
    "    \n",
    "    return x"
   ]
  },
  {
   "cell_type": "markdown",
   "id": "ac083e5e-4e87-4b24-a076-b2f00cc25cbb",
   "metadata": {},
   "source": [
    "Recall PageRank Case:"
   ]
  },
  {
   "cell_type": "code",
   "execution_count": 24,
   "id": "6f974659-1b94-4bf4-a5c5-07cdd06a2b71",
   "metadata": {},
   "outputs": [],
   "source": [
    "H = np.array([[0, 0, 1/2, 1/3, 1/2], \n",
    "             [1/2, 0, 0, 1/3, 1/2], \n",
    "             [0, 1, 0, 1/3, 0],\n",
    "             [0, 0, 1/2, 0, 0],\n",
    "             [1/2, 0, 0, 0, 0]])"
   ]
  },
  {
   "cell_type": "code",
   "execution_count": 26,
   "id": "e116c19f-03cd-48b5-9527-10092dae5c29",
   "metadata": {},
   "outputs": [
    {
     "name": "stdout",
     "output_type": "stream",
     "text": [
      "[[0.         0.         0.5        0.33333333 0.5       ]\n",
      " [0.5        0.         0.         0.33333333 0.5       ]\n",
      " [0.         1.         0.         0.33333333 0.        ]\n",
      " [0.         0.         0.5        0.         0.        ]\n",
      " [0.5        0.         0.         0.         0.        ]]\n"
     ]
    }
   ],
   "source": [
    "print(H)"
   ]
  },
  {
   "cell_type": "code",
   "execution_count": 28,
   "id": "1dd82132-eed8-4c6c-8dd5-c5d32379d16e",
   "metadata": {},
   "outputs": [],
   "source": [
    "d = 0.9"
   ]
  },
  {
   "cell_type": "code",
   "execution_count": 30,
   "id": "a9aed8b0-a560-49fa-bfe9-89f8d85c8dc9",
   "metadata": {},
   "outputs": [],
   "source": [
    "# The identity matrix in this case is a 5-by-5 identity matrix\n",
    "I = np.eye(5)"
   ]
  },
  {
   "cell_type": "code",
   "execution_count": 32,
   "id": "c4d9854f-60e2-414f-984b-a6cab7f19d62",
   "metadata": {},
   "outputs": [],
   "source": [
    "one = np.ones(5)"
   ]
  },
  {
   "cell_type": "code",
   "execution_count": 34,
   "id": "cb25d7ce-b961-47b5-8098-4844dee2bc61",
   "metadata": {},
   "outputs": [],
   "source": [
    "r = jacobi(A = I - d * H, b =  (1 - d) * one, max_iterations = 15, x = one)"
   ]
  },
  {
   "cell_type": "code",
   "execution_count": 36,
   "id": "ed533257-7655-44cf-b3ec-9afc31f88f4f",
   "metadata": {},
   "outputs": [
    {
     "name": "stdout",
     "output_type": "stream",
     "text": [
      "[1.19608029 1.13515718 1.33139892 0.69914336 0.63822025]\n"
     ]
    }
   ],
   "source": [
    "print(r)"
   ]
  },
  {
   "cell_type": "code",
   "execution_count": 38,
   "id": "6dc332dd-cb77-4a63-98ca-70819cacdcc0",
   "metadata": {},
   "outputs": [],
   "source": [
    "highest_rank = max(r)"
   ]
  },
  {
   "cell_type": "code",
   "execution_count": 40,
   "id": "b0978134-9377-481f-9440-1bcc52a70210",
   "metadata": {},
   "outputs": [
    {
     "name": "stdout",
     "output_type": "stream",
     "text": [
      "The highest rank is 1.3313989243462654.\n"
     ]
    }
   ],
   "source": [
    "print(f'The highest rank is {highest_rank}.')"
   ]
  },
  {
   "cell_type": "code",
   "execution_count": 42,
   "id": "00b144e2-e0e6-4899-b85a-e16e6c852038",
   "metadata": {},
   "outputs": [
    {
     "name": "stdout",
     "output_type": "stream",
     "text": [
      "The highest rank is about 1.33.\n"
     ]
    }
   ],
   "source": [
    "print(f'The highest rank is about {round(highest_rank, 2)}.')"
   ]
  },
  {
   "cell_type": "markdown",
   "id": "221c9215-5f30-4b89-9fb4-fd66b64ff92d",
   "metadata": {},
   "source": [
    "## Gauss-Seidel method"
   ]
  },
  {
   "cell_type": "markdown",
   "id": "a6e82607-d24a-4e27-894a-4364587c7def",
   "metadata": {},
   "source": [
    "In the Gauss-Seidel method, we choose $M$ to be the lower triangular part of $A$ including the diagonal ($M$ is then denoted as $L$), that is, $L$ is the same as $A$ along and below and including the main diagonal but is zero everywhere else."
   ]
  },
  {
   "cell_type": "markdown",
   "id": "3df40232-6882-46de-88c9-3ff7dba55f9e",
   "metadata": {},
   "source": [
    "\\begin{align*}\n",
    "L \\mathbf{x_k} = (L - A)\\mathbf{x_{k-1}} + \\bf{b}\n",
    "\\end{align*}"
   ]
  },
  {
   "cell_type": "markdown",
   "id": "3fdf79bf-8c91-4ffa-90d6-52b7a9ce06c8",
   "metadata": {},
   "source": [
    "The equation can be re-organized to the following format:"
   ]
  },
  {
   "cell_type": "markdown",
   "id": "40e3e3f6-88c7-46d0-9b01-986af7d354e8",
   "metadata": {},
   "source": [
    "\\begin{align*}\n",
    "L \\mathbf{x_k} =  \\bf{b} -U \\mathbf{x_{k-1}}\n",
    "\\end{align*}"
   ]
  },
  {
   "cell_type": "markdown",
   "id": "4e457b7b-307e-4f1c-937f-216f547893be",
   "metadata": {},
   "source": [
    "where $U$ is the upper triangular part of $A$"
   ]
  },
  {
   "cell_type": "markdown",
   "id": "b68b5af8-40a9-483d-93c9-ed4b2f01da2f",
   "metadata": {},
   "source": [
    "\\begin{align*}\n",
    "\\mathbf{x_k} = L^{-1}(\\mathbf{b} - U\\mathbf{x_{k-1}})\n",
    "\\end{align*}"
   ]
  },
  {
   "cell_type": "code",
   "execution_count": 51,
   "id": "71544384-5b6e-46da-8c28-ecb5d9e4b336",
   "metadata": {},
   "outputs": [],
   "source": [
    "def gauss_seidel(A, b, tol=1e-10, max_iterations=10000, x=None):\n",
    "    \"\"\"\n",
    "    Solve the linear system Ax = b using the Gauss-Seidel iterative method.\n",
    "\n",
    "    Parameters:\n",
    "        A (ndarray): Coefficient matrix (n x n).\n",
    "        b (ndarray): Constant terms vector (n).\n",
    "        tol (float): Tolerance for convergence (default is 1e-10).\n",
    "        max_iterations (int): Maximum number of iterations (default is 1000).\n",
    "        x (ndarray): Initial guess for the solution vector (n) (default is None, initializes with zeros).\n",
    "\n",
    "    Returns:\n",
    "        x (ndarray): Solution vector (n).\n",
    "    \"\"\"\n",
    "    n = len(b)\n",
    "    if x is None:\n",
    "        x = np.zeros(n)  # Initialize the solution vector with zeros if no initial guess is provided\n",
    "    else:\n",
    "        x = x.copy()  # Ensure the initial guess is not modified outside the function\n",
    "    \n",
    "    # Decompose A into L (lower triangular part) and U (upper triangular part)\n",
    "    L = np.tril(A)  # Lower triangular matrix including the diagonal\n",
    "    U = A - L  # Upper triangular matrix without the diagonal\n",
    "    \n",
    "    # Iterate to solve the system\n",
    "    for k in range(max_iterations):\n",
    "        x_old = x.copy()  # Store the previous iteration values\n",
    "        \n",
    "        # Update each element of the solution vector\n",
    "        for i in range(n):\n",
    "            # Calculate the sum of the known values in L and U matrices\n",
    "            sum1 = np.dot(L[i, :i], x[:i])  # Sum of L * x for previous elements\n",
    "            sum2 = np.dot(U[i, :], x_old)  # Sum of U * x_old for remaining elements\n",
    "            # Update the current element of the solution vector\n",
    "            if L[i, i] == 0:\n",
    "                raise ValueError(\"Zero on diagonal. The matrix is singular and cannot be solved using Gauss-Seidel.\")\n",
    "            x[i] = (b[i] - sum1 - sum2) / L[i, i]\n",
    "                \n",
    "        # Check for convergence\n",
    "        if np.linalg.norm(x - x_old, ord=np.inf) < tol:\n",
    "            return x  # Converged, return the solution \n",
    "    \n",
    "    # If the method did not converge within the maximum iterations, raise an error\n",
    "    raise ValueError(\"Gauss-Seidel method did not converge within the maximum number of iterations\")"
   ]
  },
  {
   "cell_type": "code",
   "execution_count": 53,
   "id": "d7001f54-757e-4aa4-93d5-9266ac0ea7d0",
   "metadata": {},
   "outputs": [
    {
     "ename": "ValueError",
     "evalue": "Gauss-Seidel method did not converge within the maximum number of iterations",
     "output_type": "error",
     "traceback": [
      "\u001b[0;31m---------------------------------------------------------------------------\u001b[0m",
      "\u001b[0;31mValueError\u001b[0m                                Traceback (most recent call last)",
      "\u001b[0;32m/var/folders/xl/xzk9t6kn3ps3psv1g1vtb9wm0000gn/T/ipykernel_56687/1366307179.py\u001b[0m in \u001b[0;36m<module>\u001b[0;34m\u001b[0m\n\u001b[0;32m----> 1\u001b[0;31m \u001b[0mrgs\u001b[0m \u001b[0;34m=\u001b[0m \u001b[0mgauss_seidel\u001b[0m\u001b[0;34m(\u001b[0m\u001b[0mA\u001b[0m \u001b[0;34m=\u001b[0m \u001b[0mI\u001b[0m \u001b[0;34m-\u001b[0m \u001b[0md\u001b[0m \u001b[0;34m*\u001b[0m \u001b[0mH\u001b[0m\u001b[0;34m,\u001b[0m \u001b[0mb\u001b[0m \u001b[0;34m=\u001b[0m  \u001b[0;34m(\u001b[0m\u001b[0;36m1\u001b[0m \u001b[0;34m-\u001b[0m \u001b[0md\u001b[0m\u001b[0;34m)\u001b[0m \u001b[0;34m*\u001b[0m \u001b[0mone\u001b[0m\u001b[0;34m,\u001b[0m \u001b[0mmax_iterations\u001b[0m \u001b[0;34m=\u001b[0m \u001b[0;36m15\u001b[0m\u001b[0;34m,\u001b[0m \u001b[0mx\u001b[0m \u001b[0;34m=\u001b[0m \u001b[0mone\u001b[0m\u001b[0;34m)\u001b[0m\u001b[0;34m\u001b[0m\u001b[0;34m\u001b[0m\u001b[0m\n\u001b[0m",
      "\u001b[0;32m/var/folders/xl/xzk9t6kn3ps3psv1g1vtb9wm0000gn/T/ipykernel_56687/510072680.py\u001b[0m in \u001b[0;36mgauss_seidel\u001b[0;34m(A, b, tol, max_iterations, x)\u001b[0m\n\u001b[1;32m     42\u001b[0m \u001b[0;34m\u001b[0m\u001b[0m\n\u001b[1;32m     43\u001b[0m     \u001b[0;31m# If the method did not converge within the maximum iterations, raise an error\u001b[0m\u001b[0;34m\u001b[0m\u001b[0;34m\u001b[0m\u001b[0m\n\u001b[0;32m---> 44\u001b[0;31m     \u001b[0;32mraise\u001b[0m \u001b[0mValueError\u001b[0m\u001b[0;34m(\u001b[0m\u001b[0;34m\"Gauss-Seidel method did not converge within the maximum number of iterations\"\u001b[0m\u001b[0;34m)\u001b[0m\u001b[0;34m\u001b[0m\u001b[0;34m\u001b[0m\u001b[0m\n\u001b[0m",
      "\u001b[0;31mValueError\u001b[0m: Gauss-Seidel method did not converge within the maximum number of iterations"
     ]
    }
   ],
   "source": [
    "rgs = gauss_seidel(A = I - d * H, b =  (1 - d) * one, max_iterations = 15, x = one)"
   ]
  },
  {
   "cell_type": "code",
   "execution_count": 55,
   "id": "d7e5ee42-ee29-4e70-8f8c-9eb2e789c430",
   "metadata": {},
   "outputs": [
    {
     "name": "stdout",
     "output_type": "stream",
     "text": [
      "[[ 1.    0.   -0.45 -0.3  -0.45]\n",
      " [-0.45  1.    0.   -0.3  -0.45]\n",
      " [ 0.   -0.9   1.   -0.3   0.  ]\n",
      " [ 0.    0.   -0.45  1.    0.  ]\n",
      " [-0.45  0.    0.    0.    1.  ]]\n"
     ]
    }
   ],
   "source": [
    "print(I - d * H)"
   ]
  },
  {
   "cell_type": "markdown",
   "id": "25e75bc3-8ab5-4549-a7ec-f9cfbf4d24b7",
   "metadata": {},
   "source": [
    "The key reason why the Gauss-Seidel method struggles to converge while the Jacobi method succeeds is due to the above matrix is not [diagonally dominant](https://en.wikipedia.org/wiki/Diagonally_dominant_matrix)."
   ]
  },
  {
   "cell_type": "markdown",
   "id": "0bc35294-cbe5-4621-9933-afdb317f9cd8",
   "metadata": {},
   "source": [
    "\\begin{align*}\n",
    "{\\displaystyle |a_{ii}| \\geq \\sum _{j\\neq i}|a_{ij}|\\ \\ \\forall \\ i}\n",
    "\\end{align*}"
   ]
  },
  {
   "cell_type": "markdown",
   "id": "a3773181-c903-46a6-9125-2ad2f2a1265b",
   "metadata": {},
   "source": [
    "where $a_{ij}$ denotes the entry in the $i$-th row and $j$-th column."
   ]
  },
  {
   "cell_type": "markdown",
   "id": "0939e45c-eba8-4757-b969-d1f2b93f38c3",
   "metadata": {},
   "source": [
    "This lack of dominance makes the Gauss-Seidel method susceptible to divergence or oscillatory behavior."
   ]
  },
  {
   "cell_type": "markdown",
   "id": "119e1917-5bf2-4caf-9366-959cdebf1885",
   "metadata": {},
   "source": [
    "## Gauss-Seidel method with relaxation"
   ]
  },
  {
   "cell_type": "markdown",
   "id": "71f1bbb7-6c65-40ac-a952-44f799bb4dba",
   "metadata": {},
   "source": [
    "We introduce a relaxation facotr $\\omega$. Adjusting the relaxation factor to a value less than 1 ($\\omega$ < 1, i.e., under-relaxation) may stabilize the iterations. "
   ]
  },
  {
   "cell_type": "code",
   "execution_count": 63,
   "id": "37ce685c-1e8f-439f-aed3-dcb99b42ac75",
   "metadata": {},
   "outputs": [],
   "source": [
    "def gauss_seidel(A, b, tol=1e-8, max_iterations=10000, x=None, omega=1.0):\n",
    "    \"\"\"\n",
    "    Solve the linear system Ax = b using the Gauss-Seidel iterative method with relaxation.\n",
    "\n",
    "    Parameters:\n",
    "        A (ndarray): Coefficient matrix (n x n).\n",
    "        b (ndarray): Constant terms vector (n).\n",
    "        tol (float): Tolerance for convergence (default is 1e-8).\n",
    "        max_iterations (int): Maximum number of iterations (default is 5000).\n",
    "        x (ndarray): Initial guess for the solution vector (n) (default is None, initializes with zeros).\n",
    "        omega (float): Relaxation factor (default is 1.0).\n",
    "\n",
    "    Returns:\n",
    "        x (ndarray): Solution vector (n).\n",
    "    \"\"\"\n",
    "    n = len(b)\n",
    "    if x is None:\n",
    "        x = np.zeros(n)  # Initialize the solution vector with zeros if no initial guess is provided\n",
    "    else:\n",
    "        x = x.copy()  # Ensure the initial guess is not modified outside the function\n",
    "    \n",
    "    # Decompose A into L (lower triangular part) and U (upper triangular part)\n",
    "    L = np.tril(A)  # Lower triangular matrix including the diagonal\n",
    "    U = A - L  # Upper triangular matrix without the diagonal\n",
    "        \n",
    "    # Iterate to solve the system\n",
    "    for k in range(max_iterations):\n",
    "        x_old = x.copy()  # Store the previous iteration values\n",
    "        \n",
    "        # Update each element of the solution vector\n",
    "        for i in range(n):\n",
    "            # Calculate the sum of the known values in L and U matrices\n",
    "            sum1 = np.dot(L[i, :i], x[:i])  # Sum of L * x for previous elements\n",
    "            sum2 = np.dot(U[i, :], x_old)  # Sum of U * x_old for remaining elements\n",
    "            # Update the current element of the solution vector with relaxation\n",
    "            if L[i, i] == 0:\n",
    "                raise ValueError(\"Zero on diagonal. The matrix is singular and cannot be solved using Gauss-Seidel.\")\n",
    "            x[i] = (1 - omega) * x_old[i] + omega * (b[i] - sum1 - sum2) / L[i, i]\n",
    "                \n",
    "        # Check for convergence\n",
    "        if np.linalg.norm(x - x_old, ord=np.inf) < tol:\n",
    "            return x  # Converged, return the solution\n",
    "    \n",
    "    # If the method did not converge within the maximum iterations, raise an error\n",
    "    raise ValueError(\"Gauss-Seidel method did not converge within the maximum number of iterations\")"
   ]
  },
  {
   "cell_type": "code",
   "execution_count": 65,
   "id": "289e3629-355a-4d60-8600-0cdcff4db583",
   "metadata": {},
   "outputs": [
    {
     "ename": "ValueError",
     "evalue": "Gauss-Seidel method did not converge within the maximum number of iterations",
     "output_type": "error",
     "traceback": [
      "\u001b[0;31m---------------------------------------------------------------------------\u001b[0m",
      "\u001b[0;31mValueError\u001b[0m                                Traceback (most recent call last)",
      "\u001b[0;32m/var/folders/xl/xzk9t6kn3ps3psv1g1vtb9wm0000gn/T/ipykernel_56687/1508581689.py\u001b[0m in \u001b[0;36m<module>\u001b[0;34m\u001b[0m\n\u001b[0;32m----> 1\u001b[0;31m \u001b[0mrgsr\u001b[0m \u001b[0;34m=\u001b[0m \u001b[0mgauss_seidel\u001b[0m\u001b[0;34m(\u001b[0m\u001b[0mA\u001b[0m \u001b[0;34m=\u001b[0m \u001b[0mI\u001b[0m \u001b[0;34m-\u001b[0m \u001b[0md\u001b[0m \u001b[0;34m*\u001b[0m \u001b[0mH\u001b[0m\u001b[0;34m,\u001b[0m \u001b[0mb\u001b[0m \u001b[0;34m=\u001b[0m  \u001b[0;34m(\u001b[0m\u001b[0;36m1\u001b[0m \u001b[0;34m-\u001b[0m \u001b[0md\u001b[0m\u001b[0;34m)\u001b[0m \u001b[0;34m*\u001b[0m \u001b[0mone\u001b[0m\u001b[0;34m,\u001b[0m \u001b[0mmax_iterations\u001b[0m \u001b[0;34m=\u001b[0m \u001b[0;36m15\u001b[0m\u001b[0;34m,\u001b[0m \u001b[0mx\u001b[0m \u001b[0;34m=\u001b[0m \u001b[0mone\u001b[0m\u001b[0;34m,\u001b[0m \u001b[0momega\u001b[0m \u001b[0;34m=\u001b[0m \u001b[0;36m0.5\u001b[0m\u001b[0;34m)\u001b[0m\u001b[0;34m\u001b[0m\u001b[0;34m\u001b[0m\u001b[0m\n\u001b[0m",
      "\u001b[0;32m/var/folders/xl/xzk9t6kn3ps3psv1g1vtb9wm0000gn/T/ipykernel_56687/4162072140.py\u001b[0m in \u001b[0;36mgauss_seidel\u001b[0;34m(A, b, tol, max_iterations, x, omega)\u001b[0m\n\u001b[1;32m     43\u001b[0m \u001b[0;34m\u001b[0m\u001b[0m\n\u001b[1;32m     44\u001b[0m     \u001b[0;31m# If the method did not converge within the maximum iterations, raise an error\u001b[0m\u001b[0;34m\u001b[0m\u001b[0;34m\u001b[0m\u001b[0m\n\u001b[0;32m---> 45\u001b[0;31m     \u001b[0;32mraise\u001b[0m \u001b[0mValueError\u001b[0m\u001b[0;34m(\u001b[0m\u001b[0;34m\"Gauss-Seidel method did not converge within the maximum number of iterations\"\u001b[0m\u001b[0;34m)\u001b[0m\u001b[0;34m\u001b[0m\u001b[0;34m\u001b[0m\u001b[0m\n\u001b[0m",
      "\u001b[0;31mValueError\u001b[0m: Gauss-Seidel method did not converge within the maximum number of iterations"
     ]
    }
   ],
   "source": [
    "rgsr = gauss_seidel(A = I - d * H, b =  (1 - d) * one, max_iterations = 15, x = one, omega = 0.5)"
   ]
  },
  {
   "cell_type": "markdown",
   "id": "92372bcb-9efc-487e-96e6-5be67b9c4b52",
   "metadata": {},
   "source": [
    "It turns out the relaxation factor does not help much in this case. For Jacobi method, it calculates the next iteration using the values from the previous iteration for all variables, making it more robust for non-diagonally dominant matrices. However, Gauss-Seidel method updates each element immediately, which may amplify errors in matrices that do not meet the diagonal dominance requirement."
   ]
  },
  {
   "cell_type": "markdown",
   "id": "47e3d7f6-fed6-4a68-bd77-6cd1f6e3ca71",
   "metadata": {},
   "source": [
    "## Try the following exercies by yourself:\n",
    "\n",
    "1. Try to create systems of equations and implement these two methods to solve those systems.\n",
    "\n",
    "2. Try dufferent values for iterations and relaxation factors and compare the solutions of Jacobi method and Gauss-Seidel method."
   ]
  }
 ],
 "metadata": {
  "kernelspec": {
   "display_name": "Python 3 (ipykernel)",
   "language": "python",
   "name": "python3"
  },
  "language_info": {
   "codemirror_mode": {
    "name": "ipython",
    "version": 3
   },
   "file_extension": ".py",
   "mimetype": "text/x-python",
   "name": "python",
   "nbconvert_exporter": "python",
   "pygments_lexer": "ipython3",
   "version": "3.9.12"
  }
 },
 "nbformat": 4,
 "nbformat_minor": 5
}
