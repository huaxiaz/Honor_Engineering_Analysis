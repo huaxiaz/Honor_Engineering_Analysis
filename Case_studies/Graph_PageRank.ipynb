{
 "cells": [
  {
   "cell_type": "markdown",
   "id": "158e3612-0e2e-4094-ac57-af89f8f55e7a",
   "metadata": {},
   "source": [
    "# Introduction to Graph and PageRank Algorithm"
   ]
  },
  {
   "cell_type": "markdown",
   "id": "19ab6119-bd5d-4094-a3db-f5b3a023fd2a",
   "metadata": {},
   "source": [
    "The following contents are revised from the first case study hand-out from Honor-Level Engineering Analysis at Northwestern University."
   ]
  },
  {
   "cell_type": "markdown",
   "id": "8f0db75b-6863-413f-819b-2e2dd35af77a",
   "metadata": {},
   "source": [
    "If you have not installed **NetworkX** yet, please follow the steps to install it first: https://networkx.org/documentation/stable/install.html"
   ]
  },
  {
   "cell_type": "code",
   "execution_count": 1,
   "id": "aec011ff-84b0-4ba4-b8e3-c07757b06595",
   "metadata": {},
   "outputs": [],
   "source": [
    "import numpy as np\n",
    "# You need to install Networkx Module first\n",
    "import networkx as nx"
   ]
  },
  {
   "cell_type": "markdown",
   "id": "75739347-dcef-4ab8-bcb6-c3dd35416862",
   "metadata": {
    "tags": []
   },
   "source": [
    "## Graph"
   ]
  },
  {
   "cell_type": "markdown",
   "id": "f71ac179-5c8b-4272-92c0-1541aa9bfb56",
   "metadata": {},
   "source": [
    "A graph (or a network) is a collection of vertices (or nodes) joined by edges (or links). "
   ]
  },
  {
   "cell_type": "markdown",
   "id": "345e4be2-7ff9-463b-837f-da443ab5ce29",
   "metadata": {},
   "source": [
    "### Create a Simple Directed Graph with **NetworkX**"
   ]
  },
  {
   "cell_type": "markdown",
   "id": "e99ddd6f-da88-4f20-a386-6d023ed5ff72",
   "metadata": {},
   "source": [
    "A Simple Directed Graph is a directed graph with no self-loops (edges connecting a node to itself) or no multiple edges (multiple arrows in the same direction between a pair of nodes). "
   ]
  },
  {
   "cell_type": "code",
   "execution_count": 10,
   "id": "862e61d6-df7b-454e-99eb-d9784210d3bd",
   "metadata": {},
   "outputs": [],
   "source": [
    "# Vertices (or Nodes) of a graph\n",
    "V = ['A', 'B', 'C']\n",
    "# Edges (or Links) of a graph\n",
    "E = [('A', 'B'), ('A', 'C'), ('B', 'C'), ('C', 'B')]"
   ]
  },
  {
   "cell_type": "code",
   "execution_count": 12,
   "id": "590e11d4-8f2d-400f-9db3-439971ec9765",
   "metadata": {},
   "outputs": [],
   "source": [
    "G = nx.DiGraph()"
   ]
  },
  {
   "cell_type": "code",
   "execution_count": 14,
   "id": "94151acd-ec4d-46a8-8b5e-e0fe861f39ed",
   "metadata": {},
   "outputs": [],
   "source": [
    "G.add_nodes_from(V)\n",
    "G.add_edges_from(E)"
   ]
  },
  {
   "cell_type": "code",
   "execution_count": 16,
   "id": "905a97dd-b02d-4e87-9f54-8e6b731de1fc",
   "metadata": {},
   "outputs": [
    {
     "data": {
      "image/png": "[encoded data removed]",
      "text/plain": [
       "<Figure size 640x480 with 1 Axes>"
      ]
     },
     "metadata": {},
     "output_type": "display_data"
    }
   ],
   "source": [
    "nx.draw_networkx(G, with_labels = True, node_size = 1000, node_color = '#738FC1', edge_color = 'black', arrowsize = 33, font_size = 16)"
   ]
  },
  {
   "cell_type": "markdown",
   "id": "8705382c-fccf-4411-8111-1ce3cb6ca777",
   "metadata": {},
   "source": [
    "### The Adjacency Matrix"
   ]
  },
  {
   "cell_type": "markdown",
   "id": "5f424021-6121-40f9-8859-9971a852ebc8",
   "metadata": {},
   "source": [
    "The adjacency matrix is a mathematical representation of a network. The adjacency matrix $\\bf A$ of a graph is defined to be the $n \\times n$ matrix with elements $A_{ij}$ such that "
   ]
  },
  {
   "cell_type": "markdown",
   "id": "f01f71dc-b9f6-4d15-8226-e7edcf05851a",
   "metadata": {},
   "source": [
    "$\n",
    "A_{ij} =\n",
    "\\begin{cases}\n",
    "1 & \\text{if there is an edge between verticle } i \\text{ and } j, \\\\\n",
    "0 & \\text{otherwise.}\n",
    "\\end{cases}\n",
    "$"
   ]
  },
  {
   "cell_type": "code",
   "execution_count": 21,
   "id": "c685292c-d109-4f66-8c40-f5b0b1aefd7b",
   "metadata": {},
   "outputs": [],
   "source": [
    "# The Adjacency Matrix can be written as follows:\n",
    "A = np.array([[0, 1, 1], \n",
    "             [0, 0, 2], \n",
    "             [0, 1, 0]])"
   ]
  },
  {
   "cell_type": "code",
   "execution_count": 23,
   "id": "c9afef47-d484-48ab-ac9e-a93e86abe1f8",
   "metadata": {},
   "outputs": [],
   "source": [
    "# Edges (or Links) with weight of a graph\n",
    "Ew = [('A', 'B', 10), ('A', 'C', 5), ('B', 'C', 2), ('C', 'B', 1)]"
   ]
  },
  {
   "cell_type": "code",
   "execution_count": 25,
   "id": "bc1143c8-e995-4f1e-8be7-33075960b952",
   "metadata": {},
   "outputs": [],
   "source": [
    "Gw = nx.DiGraph()"
   ]
  },
  {
   "cell_type": "code",
   "execution_count": 27,
   "id": "3b787add-7c87-49b7-882a-e810843aa1e4",
   "metadata": {},
   "outputs": [],
   "source": [
    "pos = {'A': [0, 0], 'B': [0, 1], 'C': [1, 1]}"
   ]
  },
  {
   "cell_type": "code",
   "execution_count": 29,
   "id": "9d5f09d8-4259-4129-ad0d-b5845858bb3e",
   "metadata": {},
   "outputs": [],
   "source": [
    "Gw.add_nodes_from(V)\n",
    "Gw.add_weighted_edges_from(Ew)"
   ]
  },
  {
   "cell_type": "code",
   "execution_count": 31,
   "id": "6bcdf745-c60e-4d4f-972a-bd612aace53f",
   "metadata": {},
   "outputs": [],
   "source": [
    "weight = nx.get_edge_attributes(Gw, 'weight')"
   ]
  },
  {
   "cell_type": "code",
   "execution_count": 33,
   "id": "92a9cec1-f21d-4bcb-8ecf-713a182cb50a",
   "metadata": {},
   "outputs": [],
   "source": [
    "# This chunk of code is to include both weights for B and C\n",
    "# Combine weights for edges between B and C & C and B\n",
    "if ('B', 'C') in weight and ('C', 'B') in weight:\n",
    "    weight[('B', 'C')] = f\"{weight[('B', 'C')]}/{weight[('C', 'B')]}\"\n",
    "    del weight[('C', 'B')]  # Remove the duplicate in the reverse direction"
   ]
  },
  {
   "cell_type": "code",
   "execution_count": 35,
   "id": "c439efda-53de-4ddf-bcfb-38e853bf7006",
   "metadata": {},
   "outputs": [
    {
     "data": {
      "text/plain": [
       "{('A', 'B'): Text(0.0, 0.5, '10'),\n",
       " ('A', 'C'): Text(0.5, 0.5, '5'),\n",
       " ('B', 'C'): Text(0.5, 1.0, '2/1')}"
      ]
     },
     "execution_count": 35,
     "metadata": {},
     "output_type": "execute_result"
    },
    {
     "data": {
      "image/png": "[encoded data removed]",
      "text/plain": [
       "<Figure size 640x480 with 1 Axes>"
      ]
     },
     "metadata": {},
     "output_type": "display_data"
    }
   ],
   "source": [
    "nx.draw_networkx(Gw, pos = pos, with_labels = True, node_size = 1000, node_color = '#738FC1', edge_color = 'black', arrowsize = 33, font_size = 16)\n",
    "nx.draw_networkx_edge_labels(Gw, pos, edge_labels = weight, font_size = 16)"
   ]
  },
  {
   "cell_type": "markdown",
   "id": "ab64e87c-d36f-4a4a-9542-b62ebdcba073",
   "metadata": {},
   "source": [
    "### The Weighted Adjacency Matrix"
   ]
  },
  {
   "cell_type": "markdown",
   "id": "175f5caf-cf2e-4e4a-914f-7c341f2ff837",
   "metadata": {
    "tags": []
   },
   "source": [
    "It is useful to represent edges as having a strength, weight, or value, usually by a real number."
   ]
  },
  {
   "cell_type": "code",
   "execution_count": 39,
   "id": "a7dc82b3-38dc-45f1-9144-db9494a7b623",
   "metadata": {},
   "outputs": [],
   "source": [
    "# Write down the Adjacency Matrix\n",
    "Aw = np.array([[0, 10, 5], \n",
    "             [0, 0, 2], \n",
    "             [0, 0, 1]])"
   ]
  },
  {
   "cell_type": "code",
   "execution_count": 41,
   "id": "fee0dab9-094c-4188-9242-be402f413a55",
   "metadata": {},
   "outputs": [
    {
     "name": "stdout",
     "output_type": "stream",
     "text": [
      "[[ 0 10  5]\n",
      " [ 0  0  2]\n",
      " [ 0  0  1]]\n"
     ]
    }
   ],
   "source": [
    "print(Aw)"
   ]
  },
  {
   "cell_type": "markdown",
   "id": "c3245170-faf4-44ea-b093-29c7410ee41b",
   "metadata": {},
   "source": [
    "### Generate Features of the Graph"
   ]
  },
  {
   "cell_type": "markdown",
   "id": "9048e97b-ae9c-44cf-bff0-6afd6d1f4311",
   "metadata": {},
   "source": [
    "Generate edges and their relationships (called edge-) of $\\it G$"
   ]
  },
  {
   "cell_type": "code",
   "execution_count": 45,
   "id": "17d07ed3-551a-4a6c-bf95-588c251a6195",
   "metadata": {},
   "outputs": [
    {
     "data": {
      "text/html": [
       "<div>\n",
       "<style scoped>\n",
       "    .dataframe tbody tr th:only-of-type {\n",
       "        vertical-align: middle;\n",
       "    }\n",
       "\n",
       "    .dataframe tbody tr th {\n",
       "        vertical-align: top;\n",
       "    }\n",
       "\n",
       "    .dataframe thead th {\n",
       "        text-align: right;\n",
       "    }\n",
       "</style>\n",
       "<table border=\"1\" class=\"dataframe\">\n",
       "  <thead>\n",
       "    <tr style=\"text-align: right;\">\n",
       "      <th></th>\n",
       "      <th>source</th>\n",
       "      <th>target</th>\n",
       "    </tr>\n",
       "  </thead>\n",
       "  <tbody>\n",
       "    <tr>\n",
       "      <th>0</th>\n",
       "      <td>A</td>\n",
       "      <td>B</td>\n",
       "    </tr>\n",
       "    <tr>\n",
       "      <th>1</th>\n",
       "      <td>A</td>\n",
       "      <td>C</td>\n",
       "    </tr>\n",
       "    <tr>\n",
       "      <th>2</th>\n",
       "      <td>B</td>\n",
       "      <td>C</td>\n",
       "    </tr>\n",
       "    <tr>\n",
       "      <th>3</th>\n",
       "      <td>C</td>\n",
       "      <td>B</td>\n",
       "    </tr>\n",
       "  </tbody>\n",
       "</table>\n",
       "</div>"
      ],
      "text/plain": [
       "  source target\n",
       "0      A      B\n",
       "1      A      C\n",
       "2      B      C\n",
       "3      C      B"
      ]
     },
     "execution_count": 45,
     "metadata": {},
     "output_type": "execute_result"
    }
   ],
   "source": [
    "nx.to_pandas_edgelist(G)"
   ]
  },
  {
   "cell_type": "markdown",
   "id": "cc245473-ba01-478f-9712-287dfc9815b9",
   "metadata": {},
   "source": [
    "Generate the Adjacency Matrix of $\\it G$"
   ]
  },
  {
   "cell_type": "code",
   "execution_count": 48,
   "id": "f84004cb-978c-4891-b35a-db9033367963",
   "metadata": {},
   "outputs": [
    {
     "data": {
      "text/html": [
       "<div>\n",
       "<style scoped>\n",
       "    .dataframe tbody tr th:only-of-type {\n",
       "        vertical-align: middle;\n",
       "    }\n",
       "\n",
       "    .dataframe tbody tr th {\n",
       "        vertical-align: top;\n",
       "    }\n",
       "\n",
       "    .dataframe thead th {\n",
       "        text-align: right;\n",
       "    }\n",
       "</style>\n",
       "<table border=\"1\" class=\"dataframe\">\n",
       "  <thead>\n",
       "    <tr style=\"text-align: right;\">\n",
       "      <th></th>\n",
       "      <th>A</th>\n",
       "      <th>B</th>\n",
       "      <th>C</th>\n",
       "    </tr>\n",
       "  </thead>\n",
       "  <tbody>\n",
       "    <tr>\n",
       "      <th>A</th>\n",
       "      <td>0.0</td>\n",
       "      <td>1.0</td>\n",
       "      <td>1.0</td>\n",
       "    </tr>\n",
       "    <tr>\n",
       "      <th>B</th>\n",
       "      <td>0.0</td>\n",
       "      <td>0.0</td>\n",
       "      <td>1.0</td>\n",
       "    </tr>\n",
       "    <tr>\n",
       "      <th>C</th>\n",
       "      <td>0.0</td>\n",
       "      <td>1.0</td>\n",
       "      <td>0.0</td>\n",
       "    </tr>\n",
       "  </tbody>\n",
       "</table>\n",
       "</div>"
      ],
      "text/plain": [
       "     A    B    C\n",
       "A  0.0  1.0  1.0\n",
       "B  0.0  0.0  1.0\n",
       "C  0.0  1.0  0.0"
      ]
     },
     "execution_count": 48,
     "metadata": {},
     "output_type": "execute_result"
    }
   ],
   "source": [
    "nx.to_pandas_adjacency(G)"
   ]
  },
  {
   "cell_type": "markdown",
   "id": "91fa3696-d489-4eb0-bc9b-aecfb6d65bf4",
   "metadata": {
    "tags": []
   },
   "source": [
    "#### Further reading: Chapter 6 from [**Networks (2nd Edition)**](https://global.oup.com/academic/product/networks-9780198805090?cc=us&lang=en&) by Mark Newman."
   ]
  },
  {
   "cell_type": "markdown",
   "id": "e845cad1-f223-434a-88fe-ece1b5644a3d",
   "metadata": {},
   "source": [
    "# PageRank"
   ]
  },
  {
   "cell_type": "markdown",
   "id": "ca476e6b-d475-4d1f-ad0b-7937e63ff4d3",
   "metadata": {},
   "source": [
    "Early search engines ranked each page by using data on a page such as the number of times a search phrase appeared. The founders of Google, [Sergey Brin](https://en.wikipedia.org/wiki/Sergey_Brin)\n",
    " and [Lawrence Page](https://en.wikipedia.org/wiki/Larry_Page), came up with an alternative idea to help rank web pages while they were computer science students at Stanford. The key behind their idea, which they called [PageRank](https://en.wikipedia.org/wiki/PageRank#:~:text=PageRank%20is%20a%20way%20of,and%20the%20arrows%20represent%20hyperlinks), is that an important web page on a topic would have many other web pages linking to it. (i.e. they use the structure of the web to rank pages.) In addition to the number of links, PageRank also takes into account the importance of the linking pages. The resulting ranking is one of many factors Google uses to determine the most relevant matches for a particular query. In the following we will describe a simplified version of this PageRank algorithm."
   ]
  },
  {
   "cell_type": "markdown",
   "id": "71052333-fa83-4070-9d4b-d6d7ce634139",
   "metadata": {},
   "source": [
    "## A Graph of A Web with 5 pages"
   ]
  },
  {
   "cell_type": "markdown",
   "id": "abe4446a-6f9d-4a6a-89e0-b18ff06e1d5c",
   "metadata": {},
   "source": [
    "For example, consider a collection of 5 web pages labeled $p_1$, $p_2$, $p_3$, $p_4$, and $p_5$. The links\n",
    "between these web pages are shown below, where an arrow indicates that one page links to another. "
   ]
  },
  {
   "cell_type": "code",
   "execution_count": 66,
   "id": "a91da5b2-45c3-47c1-ac81-9ce35090b2c3",
   "metadata": {},
   "outputs": [],
   "source": [
    "Gweb = nx.DiGraph()"
   ]
  },
  {
   "cell_type": "code",
   "execution_count": 68,
   "id": "3ee835f6-0fc1-49c5-80b9-4f6f68bb4071",
   "metadata": {},
   "outputs": [],
   "source": [
    "Vweb = ['p1', 'p2', 'p3', 'p4', 'p5']\n",
    "Eweb = [('p1', 'p2'), \n",
    "        ('p1', 'p5'), \n",
    "        ('p2', 'p3'), \n",
    "        ('p3', 'p1'), \n",
    "        ('p3', 'p4'), \n",
    "        ('p4', 'p1'), \n",
    "        ('p4', 'p2'), \n",
    "        ('p4', 'p3'),\n",
    "        ('p5', 'p1'),\n",
    "        ('p5', 'p2')]"
   ]
  },
  {
   "cell_type": "code",
   "execution_count": 70,
   "id": "18310bda-7ecb-4765-a3f3-95e5400726ea",
   "metadata": {},
   "outputs": [],
   "source": [
    "Gweb.add_nodes_from(Vweb)\n",
    "Gweb.add_edges_from(Eweb)"
   ]
  },
  {
   "cell_type": "code",
   "execution_count": 72,
   "id": "bfae1866-7b6a-4a08-98de-fa9cdcd5940c",
   "metadata": {
    "tags": []
   },
   "outputs": [
    {
     "data": {
      "image/png": "[encoded data removed]",
      "text/plain": [
       "<Figure size 640x480 with 1 Axes>"
      ]
     },
     "metadata": {},
     "output_type": "display_data"
    }
   ],
   "source": [
    "nx.draw_networkx(Gweb, with_labels = True, node_size = 1000, node_color = '#738FC1', edge_color = 'black', arrowsize = 33, font_size = 16)"
   ]
  },
  {
   "cell_type": "markdown",
   "id": "37111846-ded2-41dd-98bf-7ea1c4b71846",
   "metadata": {},
   "source": [
    "For each web page $p_i$, the PageRank algorithm determines a rank $r_i$, which will be a numerical value indicating its importance (higher ranks being more important). "
   ]
  },
  {
   "cell_type": "markdown",
   "id": "7f127905-39cd-4f88-af92-206e7cff6094",
   "metadata": {},
   "source": [
    "This rank is based on two quantities we define for each page $p_i$: the number of links page $p_i$ has to other pages, which we denote by $l_i$, and the set of other pages linking to page $p_i$, which we denote by $B_i$. For example, $l_1 = 2$ and $B_1 = \\{ p_3, p_4, p_5 \\}$. Using these quantities, the rank of each page $p_i$ is then\n",
    "given by the formula below:"
   ]
  },
  {
   "cell_type": "markdown",
   "id": "82d56b33-f3b6-404f-a863-5094bbd384ab",
   "metadata": {},
   "source": [
    "\\begin{align*}\n",
    "r_i = (1 - d) + d \\sum_{p_j \\in B_i} \\frac{r_j}{\\ell_j}\n",
    "\\end{align*}\n"
   ]
  },
  {
   "cell_type": "markdown",
   "id": "bb3de9ed-e150-473e-a181-1209ce85b3cf",
   "metadata": {},
   "source": [
    "where $d$ is a design parameter chosen between 0 and 1"
   ]
  },
  {
   "cell_type": "markdown",
   "id": "f112710a-44f1-4fb6-9c77-21c1eb232cba",
   "metadata": {},
   "source": [
    "The ranks of the web pages are then given by the solution of this linear system of the above example."
   ]
  },
  {
   "cell_type": "markdown",
   "id": "d874f817-ea00-41fb-b524-5df05bcd888f",
   "metadata": {},
   "source": [
    "\\begin{array}{rcl}\n",
    "r_1 = 0.1 & & & + 0.45r_3&  +0.3r_4 + 0.45r_5\\\\\n",
    "r_2 = 0.1 & + 0.45r_1 & & & +0.3r_4 + 0.45r_5\\\\\n",
    "r_3 = 0.1 & & +0.9r_2 &&  + 0.3r_4\\\\\n",
    "r_4 = 0.1  & & & +0.45r_3\\\\\n",
    "r_5 = 0.1 & + 0.45r_1 & & &\\\\\n",
    "\\end{array}"
   ]
  },
  {
   "cell_type": "markdown",
   "id": "0e577578-1a5c-4a42-9801-522a92b86c78",
   "metadata": {},
   "source": [
    "We can use matrix/vector notation to express these relations in the more compact form."
   ]
  },
  {
   "cell_type": "markdown",
   "id": "ec447e87-4c4f-4093-9ef9-a0191155398e",
   "metadata": {},
   "source": [
    "\\begin{align*}\n",
    "\\mathbf{r} = (1 - d) \\mathbf{1} + dH \\mathbf{r}\n",
    "\\end{align*}\n"
   ]
  },
  {
   "cell_type": "markdown",
   "id": "0e738d9d-8840-4bc8-9e9e-f1d0344ec7ea",
   "metadata": {},
   "source": [
    "where $\\textbf r$ is a $n$-dimensional vector ($n = 5$ in this case), $\\mathbf{1}$ is a $5 \\times 1$ vectors of all ones, and $H$ is a Hyperlink Matrix"
   ]
  },
  {
   "cell_type": "markdown",
   "id": "7065715d-11db-4b52-8e99-b95df1de4d31",
   "metadata": {
    "tags": []
   },
   "source": [
    "### The Hyperlink Matrix"
   ]
  },
  {
   "cell_type": "markdown",
   "id": "7219f34b-c8b5-440e-95eb-7275725f9a88",
   "metadata": {},
   "source": [
    "The Hyperlink Matrix $H$ is a $n \\times n$ matrix in which the entry in the $i$-th row and the $j$-th column is given by"
   ]
  },
  {
   "cell_type": "markdown",
   "id": "154dba0b-c8bd-4942-ba5e-7eb12147ac5a",
   "metadata": {},
   "source": [
    "$\n",
    "H_{ij} =\n",
    "\\begin{cases}\n",
    "\\frac{1}{{l}_{j}} & \\text{if } p_{j} \\in B_{i} \\\\\n",
    "0 & \\text{otherwise}\n",
    "\\end{cases}\n",
    "$"
   ]
  },
  {
   "cell_type": "markdown",
   "id": "16a7ae64-e537-432e-b763-a0a019cf11b9",
   "metadata": {},
   "source": [
    "where $l_{i}$ is the number of links page $p_{i}$ has to other pages and $B_{i}$ is the set of other pages linking to page $p_{i}$"
   ]
  },
  {
   "cell_type": "code",
   "execution_count": 3,
   "id": "e44d6003-d624-46af-a554-4b53b009231a",
   "metadata": {},
   "outputs": [],
   "source": [
    "H = np.array([[0, 0, 1/2, 1/3, 1/2], \n",
    "             [1/2, 0, 0, 1/3, 1/2], \n",
    "             [0, 1, 0, 1/3, 0],\n",
    "             [0, 0, 1/2, 0, 0],\n",
    "             [1/2, 0, 0, 0, 0]])"
   ]
  },
  {
   "cell_type": "code",
   "execution_count": 5,
   "id": "2386a7a8-5a90-42fe-ba21-830fc6a5e9d1",
   "metadata": {},
   "outputs": [
    {
     "name": "stdout",
     "output_type": "stream",
     "text": [
      "[[0.         0.         0.5        0.33333333 0.5       ]\n",
      " [0.5        0.         0.         0.33333333 0.5       ]\n",
      " [0.         1.         0.         0.33333333 0.        ]\n",
      " [0.         0.         0.5        0.         0.        ]\n",
      " [0.5        0.         0.         0.         0.        ]]\n"
     ]
    }
   ],
   "source": [
    "print(H)"
   ]
  },
  {
   "cell_type": "markdown",
   "id": "e45b0c66-5a15-4b6c-a600-4827251174a7",
   "metadata": {},
   "source": [
    "#### The dimension of Hyperlink Matrix"
   ]
  },
  {
   "cell_type": "code",
   "execution_count": 8,
   "id": "9ba02790-25d0-430a-a856-0c05ba104193",
   "metadata": {},
   "outputs": [],
   "source": [
    "Hdim = H.shape"
   ]
  },
  {
   "cell_type": "code",
   "execution_count": 10,
   "id": "f31ae6ca-227f-423f-8d3c-b976e96a9968",
   "metadata": {},
   "outputs": [
    {
     "name": "stdout",
     "output_type": "stream",
     "text": [
      "(5, 5)\n"
     ]
    }
   ],
   "source": [
    "print(Hdim)"
   ]
  },
  {
   "cell_type": "markdown",
   "id": "bb2a23a4-b4ed-4040-a6a7-000789219a93",
   "metadata": {},
   "source": [
    "### The Adjacency Matrix"
   ]
  },
  {
   "cell_type": "code",
   "execution_count": 13,
   "id": "f3cb8af0-de4f-4599-8edd-67c4190f4799",
   "metadata": {},
   "outputs": [],
   "source": [
    "A_web = np.array([[0, 1, 0, 0, 1], \n",
    "             [0, 0, 1, 0, 0], \n",
    "             [1, 0, 0, 1, 0],\n",
    "             [1, 1, 1, 0, 0],\n",
    "             [1, 1, 0, 0, 0]])"
   ]
  },
  {
   "cell_type": "markdown",
   "id": "12057692-feb4-49ed-89e5-e214281e868f",
   "metadata": {},
   "source": [
    "#### What do you find the Adjacency Matrix and the Hyperlink Matrix?"
   ]
  },
  {
   "cell_type": "code",
   "execution_count": 16,
   "id": "f7fb3d1c-6ddc-4eff-88de-b3356cd3fc39",
   "metadata": {},
   "outputs": [],
   "source": [
    "# Hint:\n",
    "AwebT = A_web.T"
   ]
  },
  {
   "cell_type": "code",
   "execution_count": 18,
   "id": "8024298d-5cd8-4347-9038-d229394a78c1",
   "metadata": {},
   "outputs": [
    {
     "data": {
      "text/plain": [
       "array([[0, 0, 1, 1, 1],\n",
       "       [1, 0, 0, 1, 1],\n",
       "       [0, 1, 0, 1, 0],\n",
       "       [0, 0, 1, 0, 0],\n",
       "       [1, 0, 0, 0, 0]])"
      ]
     },
     "execution_count": 18,
     "metadata": {},
     "output_type": "execute_result"
    }
   ],
   "source": [
    "AwebT"
   ]
  },
  {
   "cell_type": "markdown",
   "id": "30f74f12-ac96-4e44-9572-52171651bdbe",
   "metadata": {},
   "source": [
    "## Identity Matrix"
   ]
  },
  {
   "cell_type": "code",
   "execution_count": 21,
   "id": "7112124c-635f-4533-8ebe-fb3ae5c73e54",
   "metadata": {},
   "outputs": [],
   "source": [
    "# The identity matrix in this case is a 5-by-5 identity matrix\n",
    "I = np.eye(5)"
   ]
  },
  {
   "cell_type": "code",
   "execution_count": 23,
   "id": "35567733-cae0-4047-bbbf-7429d6f0fa9e",
   "metadata": {},
   "outputs": [
    {
     "name": "stdout",
     "output_type": "stream",
     "text": [
      "[[1. 0. 0. 0. 0.]\n",
      " [0. 1. 0. 0. 0.]\n",
      " [0. 0. 1. 0. 0.]\n",
      " [0. 0. 0. 1. 0.]\n",
      " [0. 0. 0. 0. 1.]]\n"
     ]
    }
   ],
   "source": [
    "print(I)"
   ]
  },
  {
   "cell_type": "markdown",
   "id": "1d2534bd-1254-43bb-bbd4-23f413602f8b",
   "metadata": {},
   "source": [
    "## Initialize (an identity) Vector"
   ]
  },
  {
   "cell_type": "markdown",
   "id": "1dab9884-070b-4537-8f5b-85e1e1277169",
   "metadata": {},
   "source": [
    "Vector (in $n$ -dimension) is represented as a matrix whose number of rows is $n$ and number of column is always zero"
   ]
  },
  {
   "cell_type": "code",
   "execution_count": 27,
   "id": "12f82ea6-d275-45f9-b710-1772f6d8b618",
   "metadata": {},
   "outputs": [],
   "source": [
    "one = np.ones(5)"
   ]
  },
  {
   "cell_type": "code",
   "execution_count": 29,
   "id": "88fb6def-8191-4317-8e2c-db81044286ce",
   "metadata": {},
   "outputs": [
    {
     "name": "stdout",
     "output_type": "stream",
     "text": [
      "[1. 1. 1. 1. 1.]\n"
     ]
    }
   ],
   "source": [
    "print(one)"
   ]
  },
  {
   "cell_type": "code",
   "execution_count": 31,
   "id": "effa7438-a3bb-41d7-a6d7-32354af00e1e",
   "metadata": {},
   "outputs": [],
   "source": [
    "one_dim = one.shape"
   ]
  },
  {
   "cell_type": "code",
   "execution_count": 33,
   "id": "b0f52d08-95f4-4993-9cce-b8b0100a26a4",
   "metadata": {},
   "outputs": [
    {
     "name": "stdout",
     "output_type": "stream",
     "text": [
      "(5,)\n"
     ]
    }
   ],
   "source": [
    "print(one_dim)"
   ]
  },
  {
   "cell_type": "markdown",
   "id": "00e06be7-9540-46dd-983b-9c802e3507e6",
   "metadata": {},
   "source": [
    "## Damping factor"
   ]
  },
  {
   "cell_type": "code",
   "execution_count": 37,
   "id": "015bb156-fe4e-4926-b1b8-eaef932a43ba",
   "metadata": {},
   "outputs": [],
   "source": [
    "d = 0.9"
   ]
  },
  {
   "cell_type": "markdown",
   "id": "e19d8876-c414-4b7c-b9c0-7418cd64a82d",
   "metadata": {},
   "source": [
    "$d \\in [0,1]$ "
   ]
  },
  {
   "cell_type": "code",
   "execution_count": 40,
   "id": "3fee0698-5537-4eeb-a57e-bafcf6091fb1",
   "metadata": {},
   "outputs": [
    {
     "name": "stdout",
     "output_type": "stream",
     "text": [
      "0.3377306019369146\n"
     ]
    }
   ],
   "source": [
    "# For a random d, we can use the following function np.random.rand to generate a random number between 0 and 1\n",
    "d_random = np.random.rand() \n",
    "print(d_random)"
   ]
  },
  {
   "cell_type": "markdown",
   "id": "f5a5b019-4cdf-41f6-ab08-505b5dfbb2a7",
   "metadata": {},
   "source": [
    "Assuming that the matrix $(I-dH)$ has an inverse, the solution of this linear system is:"
   ]
  },
  {
   "cell_type": "markdown",
   "id": "2dac419d-3477-471f-a5ec-98101fe5006c",
   "metadata": {},
   "source": [
    "\\begin{align*}\n",
    "\\mathbf{r} = (I - dH)^{-1} (1-d)\\mathbf{1}\n",
    "\\end{align*}\n"
   ]
  },
  {
   "cell_type": "markdown",
   "id": "64269ff6-c6f2-4e1c-8fe8-6d6a030debc7",
   "metadata": {},
   "source": [
    "## Solve the linear system"
   ]
  },
  {
   "cell_type": "code",
   "execution_count": 67,
   "id": "852d2213-44a1-4faf-9df6-36dd7c717290",
   "metadata": {},
   "outputs": [],
   "source": [
    "# Equivalent left division in MATLAB \n",
    "r = np.linalg.solve(I - d * H, (1 - d) * one)"
   ]
  },
  {
   "cell_type": "code",
   "execution_count": 69,
   "id": "73319a17-b65a-48cb-8d17-6e3ab0eeffc3",
   "metadata": {},
   "outputs": [
    {
     "name": "stdout",
     "output_type": "stream",
     "text": [
      "[1.19607057 1.13517442 1.33139535 0.69912791 0.63823176]\n"
     ]
    }
   ],
   "source": [
    "print(r)"
   ]
  },
  {
   "cell_type": "code",
   "execution_count": 71,
   "id": "77d5a902-6f03-47e7-b14c-3da78296948c",
   "metadata": {},
   "outputs": [],
   "source": [
    "highest_rank = max(r)"
   ]
  },
  {
   "cell_type": "code",
   "execution_count": 75,
   "id": "fb538de4-f174-49ca-bda2-3a1967f2a609",
   "metadata": {},
   "outputs": [
    {
     "name": "stdout",
     "output_type": "stream",
     "text": [
      "The highest rank is 1.3313953488372092.\n"
     ]
    }
   ],
   "source": [
    "print(f'The highest rank is {highest_rank}.')"
   ]
  },
  {
   "cell_type": "code",
   "execution_count": 77,
   "id": "6351c14c-13ff-45ac-9b74-b341f7e883fa",
   "metadata": {},
   "outputs": [
    {
     "name": "stdout",
     "output_type": "stream",
     "text": [
      "The highest rank is about 1.33.\n"
     ]
    }
   ],
   "source": [
    "print(f'The highest rank is about {round(highest_rank, 2)}.')"
   ]
  },
  {
   "cell_type": "markdown",
   "id": "0aca782a-2e67-4c2e-9623-ac394246a577",
   "metadata": {},
   "source": [
    "## Iterative Algorithms"
   ]
  },
  {
   "cell_type": "markdown",
   "id": "79e785f6-6c71-4aa5-89d6-2cb6f970f1a8",
   "metadata": {},
   "source": [
    "When applying the PageRank algorithm to the actual web, the number of pages involved can be\n",
    "quite large. Moreover, even if $n$ is only a modest 10 million, then $H$ will have $n^2$ = $10^{14}$ entries!\n",
    "Fortunately, most of these entries are zero, as a typical web page only links to tens or hundreds of others, not thousands or millions. For example, for this $n$, if each page links to a hundred others on average, then only 0.001% of the entries of $H$ will be nonzero. Matrices having mostly zero entries are called [**sparse matrices**](https://en.wikipedia.org/wiki/Sparse_matrix), and it is often more efficient to solve sparse systems of linear equations by using an an iterative algorithm instead of the “left division” algorithm from above. The main idea behind an iterative algorithm is to have a procedure for generating a sequence $r(0)$, $r(1)$, $r(2)$, . . . of guesses to the solution of the linear system, where at each step the previous guess is used to help make a new (and hopefully better) guess. We illustrate such a procedure by using the relation ($\\mathbf{r} = (I - dH)^{-1} (1-d)\\mathbf{1}$) to generate new guesses at each step. Specifically, given the $k$-th guess $r(k)$, we let the $(k + 1)$st guess be the left-hand side of the equation when the previous guess is substituted into the right-hand side"
   ]
  },
  {
   "cell_type": "markdown",
   "id": "1a855a3c-b667-4b83-b23e-d99c81cc7af9",
   "metadata": {},
   "source": [
    "\\begin{align*}\n",
    "\\mathbf{r}(k + 1) = (I - dH)^{-1} (1-d)\\mathbf{r}(k)\n",
    "\\end{align*}\n"
   ]
  },
  {
   "cell_type": "markdown",
   "id": "c3f94506-a523-484f-acbb-027802dcd128",
   "metadata": {},
   "source": [
    "Note that if $r(k)$ was a solution to the linear system, then it must be that $r(k + 1) = r(k)$, i.e., if a\n",
    "guess is a solution, then our rule will not change the guess."
   ]
  },
  {
   "cell_type": "markdown",
   "id": "02be3d4f-b0e3-4c7e-b467-0104e68c200d",
   "metadata": {},
   "source": [
    "We are interested in what happens when the guess is not a solution. To see what happens in this case, let us apply this procedure to the 5-node example above starting with an initial guess of $r(0) = \\mathbf{1}$. To generate a sequence of guesses we can use the for-loop:"
   ]
  },
  {
   "cell_type": "code",
   "execution_count": 230,
   "id": "b5116f2f-9640-419c-bbef-9aa70893a0d6",
   "metadata": {},
   "outputs": [],
   "source": [
    "r_initial = one.copy()"
   ]
  },
  {
   "cell_type": "code",
   "execution_count": 232,
   "id": "6640883d-4d47-443a-ba92-ad908cfd1582",
   "metadata": {},
   "outputs": [
    {
     "name": "stdout",
     "output_type": "stream",
     "text": [
      "Step 0: [1. 1. 1. 1. 1.]\n"
     ]
    }
   ],
   "source": [
    "# Print the initial step\n",
    "print(f\"Step 0: {r_initial}\")"
   ]
  },
  {
   "cell_type": "code",
   "execution_count": 234,
   "id": "c3ee25e1-cefe-4e5d-bed8-9459051d8384",
   "metadata": {},
   "outputs": [
    {
     "name": "stdout",
     "output_type": "stream",
     "text": [
      "Step  1: [1.3  1.3  1.3  0.55 0.55]\n",
      "Step  2: [1.0975 1.0975 1.435  0.685  0.685 ]\n",
      "Step  3: [1.2595   1.107625 1.29325  0.74575  0.593875]\n",
      "Step  4: [1.17293125 1.15774375 1.3205875  0.6819625  0.666775  ]\n",
      "Step  5: [1.19890188 1.13245656 1.34655813 0.69426438 0.62781906]\n",
      "Step  6: [1.19674905 1.13030373 1.32749022 0.70595116 0.63950584]\n",
      "Step  7: [1.19693358 1.13810005 1.32905871 0.6973706  0.63853707]\n",
      "Step  8: [1.19462928 1.13517297 1.33350122 0.69807642 0.63862011]\n",
      "Step  9: [1.19687752 1.13438515 1.3310786  0.70007555 0.63758318]\n",
      "Step 10: [1.19592046 1.13552998 1.3309693  0.69898537 0.63859489]\n",
      "Step 11: [1.19599949 1.13522752 1.33167259 0.69893619 0.63816421]\n",
      "Step 12: [1.19610742 1.13505452 1.33138562 0.69925267 0.63819977]\n",
      "Step 13: [1.19608923 1.13521404 1.33132487 0.69912353 0.63824834]\n",
      "Step 14: [1.196045   1.13518896 1.33142969 0.69909619 0.63824015]\n",
      "Step 15: [1.19608029 1.13515718 1.33139892 0.69914336 0.63822025]\n"
     ]
    }
   ],
   "source": [
    "for k in range(1, 16):\n",
    "    r_initial = (1 - d) * one + d * (H@r_initial)\n",
    "    print(f\"Step {k:2d}: {r_initial}\")"
   ]
  },
  {
   "cell_type": "markdown",
   "id": "4b7ddd8a-b97f-4bb2-9210-9a4759114323",
   "metadata": {},
   "source": [
    "The guesses generated in this manner are indeed approaching the solution we found directly in the previous section. Moreover, if we only care about the order of the ranks, then after only $k = 3$ iterations, this procedure has generated the correct order."
   ]
  },
  {
   "cell_type": "markdown",
   "id": "08f0c25b-c95b-4762-bae8-145409484189",
   "metadata": {},
   "source": [
    "## Try the following exercies by yourself:\n",
    "\n",
    "1. Create a Simple Directed Graph with at least four vertices and write down its adjacency matrix.\n",
    "\n",
    "2. Write a function takes 3 input arguments: Number of Nodes ($N$), Number of Edges ($M$), and the damping factor ($d$) to perform a generalized the PageRank algorithm."
   ]
  },
  {
   "cell_type": "markdown",
   "id": "26f90762-9e7f-482f-918f-6f2766d76ac3",
   "metadata": {},
   "source": [
    "## References: \n",
    "\n",
    "Aric A. Hagberg, Daniel A. Schult and Pieter J. Swart, “Exploring network structure, dynamics, and function using NetworkX”, in Proceedings of the 7th Python in Science Conference (SciPy2008), Gäel Varoquaux, Travis Vaught, and Jarrod Millman (Eds), (Pasadena, CA USA), pp. 11–15, Aug 2008\n",
    "\n",
    "Newman, M. (2018). Networks. Oxford university press.\n",
    "\n",
    "Brin, S., & Page, L. (1998). The anatomy of a large-scale hypertextual web search engine. Computer networks and ISDN systems, 30(1-7), 107-117."
   ]
  }
 ],
 "metadata": {
  "kernelspec": {
   "display_name": "Python 3 (ipykernel)",
   "language": "python",
   "name": "python3"
  },
  "language_info": {
   "codemirror_mode": {
    "name": "ipython",
    "version": 3
   },
   "file_extension": ".py",
   "mimetype": "text/x-python",
   "name": "python",
   "nbconvert_exporter": "python",
   "pygments_lexer": "ipython3",
   "version": "3.9.12"
  }
 },
 "nbformat": 4,
 "nbformat_minor": 5
}
