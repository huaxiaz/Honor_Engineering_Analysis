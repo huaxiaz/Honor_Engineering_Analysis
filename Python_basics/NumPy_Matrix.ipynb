{
 "cells": [
  {
   "cell_type": "markdown",
   "id": "158e3612-0e2e-4094-ac57-af89f8f55e7a",
   "metadata": {},
   "source": [
    "# Introduction to NumPy and Matrix Algebra"
   ]
  },
  {
   "cell_type": "markdown",
   "id": "62e9504a-bf7c-419a-89e4-fb832864f6ac",
   "metadata": {},
   "source": [
    "If you have not installed **NumPy** yet, please follow the steps to install it first: https://numpy.org/install/"
   ]
  },
  {
   "cell_type": "markdown",
   "id": "52efc5d5-d513-4873-bb15-0c6f952f5d6d",
   "metadata": {},
   "source": [
    "If you can successfully run the following cell, let's start our journey to Linear Algebra powered by **NumPy**."
   ]
  },
  {
   "cell_type": "code",
   "execution_count": 4,
   "id": "aec011ff-84b0-4ba4-b8e3-c07757b06595",
   "metadata": {},
   "outputs": [],
   "source": [
    "import numpy as np"
   ]
  },
  {
   "cell_type": "markdown",
   "id": "9b5fecb5-18c9-4b2e-a36a-ceb8008ecaad",
   "metadata": {},
   "source": [
    "You will learn about some functions of NumPy and Matrix Algebra through this Notebook."
   ]
  },
  {
   "cell_type": "markdown",
   "id": "9664a46c-2698-4662-8b79-300e8d644c7c",
   "metadata": {},
   "source": [
    "# An overview on **NumPy**"
   ]
  },
  {
   "cell_type": "markdown",
   "id": "d64b0f1d-03cb-4a15-921a-2a4613ae6e85",
   "metadata": {},
   "source": [
    "**NumPy** is one of the core libraries for scientific computing in Python, providing powerful tools for working with multidimensional arrays. The collection of high-performance functions in NumPy enables efficient operations on arrays, such as mathematical computations, logical operations, shape manipulation, sorting, selection, input/output handing, discrete Fourier transforms, linear algebra, statistical analysis, random number generation, and more."
   ]
  },
  {
   "cell_type": "markdown",
   "id": "5747f594-27af-4726-be8f-49db7b90aece",
   "metadata": {},
   "source": [
    "Further reading and documentation about **NumPy**: https://numpy.org/doc/stable/"
   ]
  },
  {
   "cell_type": "markdown",
   "id": "75739347-dcef-4ab8-bcb6-c3dd35416862",
   "metadata": {
    "tags": []
   },
   "source": [
    "# Matrix Notation"
   ]
  },
  {
   "cell_type": "markdown",
   "id": "f71ac179-5c8b-4272-92c0-1541aa9bfb56",
   "metadata": {},
   "source": [
    "Consider a system of linear equations (or linear system):"
   ]
  },
  {
   "cell_type": "markdown",
   "id": "2ff60fd5-8f0c-4408-9a17-0f745b354d2d",
   "metadata": {},
   "source": [
    "\\begin{align*}\n",
    "x_1 - 2x_2 + x_3 &= 0 \\\\\n",
    "2x_2 - 8x_3 &= 8 \\\\\n",
    "5x_1 - 5x_3 &= 10\n",
    "\\end{align*}"
   ]
  },
  {
   "cell_type": "markdown",
   "id": "ea56f168-973c-4bb5-9887-90d74d519bc6",
   "metadata": {},
   "source": [
    "The linear system above is realigned as follows, so yhe essential information of the system can be recorded compactly in a rectangular array called a matrix. Given the system"
   ]
  },
  {
   "cell_type": "markdown",
   "id": "9c5d13ac-f1ed-461a-8cf2-1fa759a6a4c2",
   "metadata": {},
   "source": [
    "\\begin{array}{rcl}\n",
    "x_1 & - 2x_2 & + x_3 = 0 \\\\\n",
    "     & 2x_2  & - 8x_3 = 8 \\\\\n",
    "5x_1 &        & - 5x_3 = 10\n",
    "\\end{array}"
   ]
  },
  {
   "cell_type": "markdown",
   "id": "345e4be2-7ff9-463b-837f-da443ab5ce29",
   "metadata": {},
   "source": [
    "### Create a Coefficient Matrix"
   ]
  },
  {
   "cell_type": "markdown",
   "id": "28a26e17-3e37-4a69-b1b7-9b470a18b181",
   "metadata": {},
   "source": [
    "To create a matrix, the function `np.array()` is used. The prefix `np` is used here because the `array()` function is a function inside of **NumPy** module."
   ]
  },
  {
   "cell_type": "code",
   "execution_count": 17,
   "id": "a501e701-6072-4a7e-a726-0ce1b07481f8",
   "metadata": {},
   "outputs": [],
   "source": [
    "# NumPy Array (np.array()) is used to create a matrix\n",
    "C = np.array([[1, -2, 1], [0, 2, -8], [5, 0, -5]])"
   ]
  },
  {
   "cell_type": "code",
   "execution_count": 19,
   "id": "eb6e52fe-03f7-47c0-9a4a-ad0b2877db2e",
   "metadata": {},
   "outputs": [
    {
     "name": "stdout",
     "output_type": "stream",
     "text": [
      "[[ 1 -2  1]\n",
      " [ 0  2 -8]\n",
      " [ 5  0 -5]]\n"
     ]
    }
   ],
   "source": [
    "print(C)"
   ]
  },
  {
   "cell_type": "markdown",
   "id": "f502d519-062d-4dae-8458-a5b295b87202",
   "metadata": {},
   "source": [
    "### Create a Augmented Matrix"
   ]
  },
  {
   "cell_type": "code",
   "execution_count": 22,
   "id": "06419eb1-616e-4d6b-9efc-ed34229d31f7",
   "metadata": {},
   "outputs": [],
   "source": [
    "A = np.array([[1, -2, 1, 0], [0, 2, -8, 8], [5, 0, -5, 10]])"
   ]
  },
  {
   "cell_type": "code",
   "execution_count": 24,
   "id": "cb760fbd-8a5c-437d-8eea-76e09f9ee868",
   "metadata": {},
   "outputs": [
    {
     "name": "stdout",
     "output_type": "stream",
     "text": [
      "[[ 1 -2  1  0]\n",
      " [ 0  2 -8  8]\n",
      " [ 5  0 -5 10]]\n"
     ]
    }
   ],
   "source": [
    "print(A)"
   ]
  },
  {
   "cell_type": "markdown",
   "id": "2e67c0ce-e76c-4859-a66c-68a891082597",
   "metadata": {},
   "source": [
    "### Size of a Matrix"
   ]
  },
  {
   "cell_type": "markdown",
   "id": "1aa225b4-0650-47c9-b37e-dbb1a2155007",
   "metadata": {},
   "source": [
    "The size of a matrix is accessed using  `.shape` in NumPy (In **MATLAB**, the size of a matrix is obtained using the  `size()` function.)"
   ]
  },
  {
   "cell_type": "code",
   "execution_count": 28,
   "id": "d63eb755-a9f4-41db-afba-e082b4f33086",
   "metadata": {},
   "outputs": [
    {
     "data": {
      "text/plain": [
       "(3, 3)"
      ]
     },
     "execution_count": 28,
     "metadata": {},
     "output_type": "execute_result"
    }
   ],
   "source": [
    "C.shape"
   ]
  },
  {
   "cell_type": "code",
   "execution_count": 30,
   "id": "ca04d5c4-7f3f-4068-9b97-07bf4382910e",
   "metadata": {},
   "outputs": [
    {
     "data": {
      "text/plain": [
       "(3, 4)"
      ]
     },
     "execution_count": 30,
     "metadata": {},
     "output_type": "execute_result"
    }
   ],
   "source": [
    "A.shape"
   ]
  },
  {
   "cell_type": "markdown",
   "id": "fc1e4290-d11a-4069-aae9-84d76a9f51ca",
   "metadata": {},
   "source": [
    "# Vector Notation"
   ]
  },
  {
   "cell_type": "markdown",
   "id": "4d27ad15-1d16-471f-b1f8-b082af2f6b3f",
   "metadata": {},
   "source": [
    "A matrix with only one column is called a column vector, or simply a vector.\n",
    "\n",
    "For a vector, you only need to input on `[ ]` inside `np.array()`."
   ]
  },
  {
   "cell_type": "code",
   "execution_count": 34,
   "id": "7600b779-78b2-4295-8e12-f9f4079b43b2",
   "metadata": {},
   "outputs": [],
   "source": [
    "# Create 2-dimensional vectors: u and v\n",
    "u = np.array([1, -2])\n",
    "v = np.array([2, -5])"
   ]
  },
  {
   "cell_type": "markdown",
   "id": "4a60d019-0fe8-4d9e-9612-f7cea0395e09",
   "metadata": {},
   "source": [
    "Vector (in $n$ -dimension) is represented as a matrix whose number of rows is $n$ and number of column is always zero."
   ]
  },
  {
   "cell_type": "code",
   "execution_count": 37,
   "id": "35fcfbb1-64cd-44c6-aed0-94da976cdf11",
   "metadata": {},
   "outputs": [
    {
     "data": {
      "text/plain": [
       "(2,)"
      ]
     },
     "execution_count": 37,
     "metadata": {},
     "output_type": "execute_result"
    }
   ],
   "source": [
    "u.shape"
   ]
  },
  {
   "cell_type": "code",
   "execution_count": 39,
   "id": "4a61d2b1-96ac-4440-885b-81394adbf6e8",
   "metadata": {},
   "outputs": [
    {
     "data": {
      "text/plain": [
       "(2,)"
      ]
     },
     "execution_count": 39,
     "metadata": {},
     "output_type": "execute_result"
    }
   ],
   "source": [
    "v.shape"
   ]
  },
  {
   "cell_type": "code",
   "execution_count": 41,
   "id": "4fd93785-9875-4b51-98a9-bf0699a577c3",
   "metadata": {},
   "outputs": [
    {
     "name": "stdout",
     "output_type": "stream",
     "text": [
      "[ 3 -7]\n"
     ]
    }
   ],
   "source": [
    "# Vector addition\n",
    "print(u + v)"
   ]
  },
  {
   "cell_type": "code",
   "execution_count": 43,
   "id": "719d7f6f-2c37-486d-bb89-e5e3c0e0864a",
   "metadata": {},
   "outputs": [
    {
     "name": "stdout",
     "output_type": "stream",
     "text": [
      "[ 4 -8]\n",
      "[-6 15]\n"
     ]
    }
   ],
   "source": [
    "# Scalar multiplication\n",
    "print(4 * u)\n",
    "print(-3 * v)"
   ]
  },
  {
   "cell_type": "markdown",
   "id": "38cd9833-d188-4cfc-b07a-a2f7466ee15f",
   "metadata": {},
   "source": [
    "# Matrix Operations"
   ]
  },
  {
   "cell_type": "markdown",
   "id": "4fffa736-2418-49d0-9438-749fe98d6968",
   "metadata": {},
   "source": [
    "### Sums and Scalar Multiples"
   ]
  },
  {
   "cell_type": "code",
   "execution_count": 47,
   "id": "239636dc-7f5d-4990-82af-e542bb015755",
   "metadata": {},
   "outputs": [],
   "source": [
    "# Create three matrices: A, B, C\n",
    "A = np.array([[4, 0, 5], [-1, 3, 2]])\n",
    "B = np.array([[1, 1, 1], [3, 5, 7]])\n",
    "C = np.array([[2, -3], [0, 1]])"
   ]
  },
  {
   "cell_type": "code",
   "execution_count": 49,
   "id": "5d182aec-0e8e-4637-a39e-45aec65a8c07",
   "metadata": {},
   "outputs": [
    {
     "data": {
      "text/plain": [
       "array([[5, 1, 6],\n",
       "       [2, 8, 9]])"
      ]
     },
     "execution_count": 49,
     "metadata": {},
     "output_type": "execute_result"
    }
   ],
   "source": [
    "# A + B\n",
    "A + B"
   ]
  },
  {
   "cell_type": "code",
   "execution_count": 51,
   "id": "0e579085-d727-4a62-84e2-072dbbf3f480",
   "metadata": {},
   "outputs": [
    {
     "data": {
      "text/plain": [
       "array([[5, 1, 6],\n",
       "       [2, 8, 9]])"
      ]
     },
     "execution_count": 51,
     "metadata": {},
     "output_type": "execute_result"
    }
   ],
   "source": [
    "# A + B in an alternative way\n",
    "np.add(A, B)"
   ]
  },
  {
   "cell_type": "code",
   "execution_count": 53,
   "id": "97beb2fc-0fbd-463e-8704-223d3d714d0c",
   "metadata": {},
   "outputs": [
    {
     "data": {
      "text/plain": [
       "array([[ 3, -1,  4],\n",
       "       [-4, -2, -5]])"
      ]
     },
     "execution_count": 53,
     "metadata": {},
     "output_type": "execute_result"
    }
   ],
   "source": [
    "# A - B\n",
    "A - B"
   ]
  },
  {
   "cell_type": "code",
   "execution_count": 55,
   "id": "e7c5e175-eb08-4347-8c03-ab6801e8c6cb",
   "metadata": {},
   "outputs": [
    {
     "data": {
      "text/plain": [
       "array([[ 3, -1,  4],\n",
       "       [-4, -2, -5]])"
      ]
     },
     "execution_count": 55,
     "metadata": {},
     "output_type": "execute_result"
    }
   ],
   "source": [
    "# A - B in an alternative way\n",
    "np.subtract(A, B)"
   ]
  },
  {
   "cell_type": "code",
   "execution_count": 57,
   "id": "ede02343-bd3a-40a6-9e4a-db097d52cbdf",
   "metadata": {},
   "outputs": [
    {
     "ename": "ValueError",
     "evalue": "operands could not be broadcast together with shapes (2,3) (2,2) ",
     "output_type": "error",
     "traceback": [
      "\u001b[0;31m---------------------------------------------------------------------------\u001b[0m",
      "\u001b[0;31mValueError\u001b[0m                                Traceback (most recent call last)",
      "\u001b[0;32m/var/folders/xl/xzk9t6kn3ps3psv1g1vtb9wm0000gn/T/ipykernel_57115/3795207061.py\u001b[0m in \u001b[0;36m<module>\u001b[0;34m\u001b[0m\n\u001b[1;32m      1\u001b[0m \u001b[0;31m# A + C is not defined because A and C have different sizes\u001b[0m\u001b[0;34m\u001b[0m\u001b[0;34m\u001b[0m\u001b[0m\n\u001b[0;32m----> 2\u001b[0;31m \u001b[0mA\u001b[0m \u001b[0;34m+\u001b[0m \u001b[0mC\u001b[0m\u001b[0;34m\u001b[0m\u001b[0;34m\u001b[0m\u001b[0m\n\u001b[0m",
      "\u001b[0;31mValueError\u001b[0m: operands could not be broadcast together with shapes (2,3) (2,2) "
     ]
    }
   ],
   "source": [
    "# A + C is not defined because A and C have different sizes\n",
    "A + C"
   ]
  },
  {
   "cell_type": "code",
   "execution_count": 59,
   "id": "7109a254-50d5-40ed-8cef-3d22c6b8aec9",
   "metadata": {},
   "outputs": [
    {
     "data": {
      "text/plain": [
       "True"
      ]
     },
     "execution_count": 59,
     "metadata": {},
     "output_type": "execute_result"
    }
   ],
   "source": [
    " A.shape != C.shape"
   ]
  },
  {
   "cell_type": "code",
   "execution_count": 61,
   "id": "46d6f158-40c3-4eb0-b448-bcef46a8cccc",
   "metadata": {},
   "outputs": [
    {
     "data": {
      "text/plain": [
       "array([[ 2,  2,  2],\n",
       "       [ 6, 10, 14]])"
      ]
     },
     "execution_count": 61,
     "metadata": {},
     "output_type": "execute_result"
    }
   ],
   "source": [
    "# Scalar multiplication\n",
    "2 * B"
   ]
  },
  {
   "cell_type": "code",
   "execution_count": 63,
   "id": "491bd035-1c85-4639-b75f-86c70b0f2b2f",
   "metadata": {},
   "outputs": [
    {
     "data": {
      "text/plain": [
       "array([[ 2,  2,  2],\n",
       "       [ 6, 10, 14]])"
      ]
     },
     "execution_count": 63,
     "metadata": {},
     "output_type": "execute_result"
    }
   ],
   "source": [
    "# Scalar multiplication in an alternative way\n",
    "np.multiply(2, B)"
   ]
  },
  {
   "cell_type": "code",
   "execution_count": 65,
   "id": "9f1452ce-239f-4e4a-8d33-6b10415b334f",
   "metadata": {},
   "outputs": [
    {
     "data": {
      "text/plain": [
       "array([[  2,  -2,   3],\n",
       "       [ -7,  -7, -12]])"
      ]
     },
     "execution_count": 65,
     "metadata": {},
     "output_type": "execute_result"
    }
   ],
   "source": [
    "# Sum and Scalar multiplication\n",
    "A - 2 * B"
   ]
  },
  {
   "cell_type": "code",
   "execution_count": 67,
   "id": "568df5f6-24c7-4f9c-83ce-9def247bff46",
   "metadata": {},
   "outputs": [
    {
     "data": {
      "text/plain": [
       "array([[  2,  -2,   3],\n",
       "       [ -7,  -7, -12]])"
      ]
     },
     "execution_count": 67,
     "metadata": {},
     "output_type": "execute_result"
    }
   ],
   "source": [
    "# Sum and Scalar multiplication\n",
    "np.subtract(A, 2 * B)"
   ]
  },
  {
   "cell_type": "code",
   "execution_count": 69,
   "id": "8f3a0976-2c1c-486c-be9a-e5ca922c8bd7",
   "metadata": {},
   "outputs": [
    {
     "data": {
      "text/plain": [
       "array([[  2,  -2,   3],\n",
       "       [ -7,  -7, -12]])"
      ]
     },
     "execution_count": 69,
     "metadata": {},
     "output_type": "execute_result"
    }
   ],
   "source": [
    "# Sum and Scalar multiplication\n",
    "np.subtract(A, np.multiply(2, B))"
   ]
  },
  {
   "cell_type": "markdown",
   "id": "230965ad-6391-4f1d-abb2-810aaf4cbcfd",
   "metadata": {
    "tags": []
   },
   "source": [
    "### Matrix Multiplication"
   ]
  },
  {
   "cell_type": "markdown",
   "id": "de34d14f-3b0c-4eb4-ac40-5ef34e8f50f9",
   "metadata": {},
   "source": [
    "The symbol `@` is used as the sign for matrix multiplication."
   ]
  },
  {
   "cell_type": "code",
   "execution_count": 73,
   "id": "4bce78ea-9305-4209-a05c-4c5a711a6898",
   "metadata": {},
   "outputs": [],
   "source": [
    "# Create two matrices: M1, M2\n",
    "M1 = np.array([[2, 3], [1, -5]])\n",
    "M2 = np.array([[4, 3, 6],[1, -2, 3]])"
   ]
  },
  {
   "cell_type": "code",
   "execution_count": 75,
   "id": "16d0f067-fbd6-48f8-acec-bbe029f2d45e",
   "metadata": {},
   "outputs": [
    {
     "data": {
      "text/plain": [
       "array([[11,  0, 21],\n",
       "       [-1, 13, -9]])"
      ]
     },
     "execution_count": 75,
     "metadata": {},
     "output_type": "execute_result"
    }
   ],
   "source": [
    "# Matrix multiplication\n",
    "M1@M2"
   ]
  },
  {
   "cell_type": "code",
   "execution_count": 77,
   "id": "145d09f9-1157-4dda-86c9-b5b0efa6851b",
   "metadata": {},
   "outputs": [
    {
     "data": {
      "text/plain": [
       "array([[11,  0, 21],\n",
       "       [-1, 13, -9]])"
      ]
     },
     "execution_count": 77,
     "metadata": {},
     "output_type": "execute_result"
    }
   ],
   "source": [
    "# Matrix multiplication in an alternative way\n",
    "np.matmul(M1, M2)"
   ]
  },
  {
   "cell_type": "code",
   "execution_count": 79,
   "id": "1126ed59-6d2d-4f3e-a9e4-5adef25d7aa1",
   "metadata": {},
   "outputs": [],
   "source": [
    "# Create two matrices: M3, M4\n",
    "M3 = np.array([[5, 1], [3, -2]])\n",
    "M4 = np.array([[2, 0], [4, 3]])"
   ]
  },
  {
   "cell_type": "code",
   "execution_count": 81,
   "id": "b27b6d14-b65f-4c20-b22d-b2f6312028c7",
   "metadata": {},
   "outputs": [
    {
     "data": {
      "text/plain": [
       "array([[14,  3],\n",
       "       [-2, -6]])"
      ]
     },
     "execution_count": 81,
     "metadata": {},
     "output_type": "execute_result"
    }
   ],
   "source": [
    "# In general, two matrices do not commute with each other\n",
    "M3@M4"
   ]
  },
  {
   "cell_type": "code",
   "execution_count": 83,
   "id": "413b75a2-be74-4d35-a4a6-0409b52cdde0",
   "metadata": {},
   "outputs": [
    {
     "data": {
      "text/plain": [
       "array([[10,  2],\n",
       "       [29, -2]])"
      ]
     },
     "execution_count": 83,
     "metadata": {},
     "output_type": "execute_result"
    }
   ],
   "source": [
    "M4@M3"
   ]
  },
  {
   "cell_type": "code",
   "execution_count": 85,
   "id": "28d770bb-0a69-45a4-9d36-ba091b08702a",
   "metadata": {},
   "outputs": [
    {
     "data": {
      "text/plain": [
       "array([[ True,  True],\n",
       "       [ True,  True]])"
      ]
     },
     "execution_count": 85,
     "metadata": {},
     "output_type": "execute_result"
    }
   ],
   "source": [
    "M3@M4 != M4@M3"
   ]
  },
  {
   "cell_type": "markdown",
   "id": "36d16726-1140-426a-9fe4-b925550e60ca",
   "metadata": {},
   "source": [
    "### The Transpose of a Matrix"
   ]
  },
  {
   "cell_type": "markdown",
   "id": "1dc0c9b1-0172-49eb-b9a7-86f93752d7bc",
   "metadata": {},
   "source": [
    "The symbol `T` is used as the sign for matrix transpose. \n",
    "\n",
    "It is consistent with the textbook symbol."
   ]
  },
  {
   "cell_type": "code",
   "execution_count": 89,
   "id": "9037938d-c049-4ba0-b4c4-60872fa7f4fd",
   "metadata": {},
   "outputs": [
    {
     "name": "stdout",
     "output_type": "stream",
     "text": [
      "[[ 4  0  5]\n",
      " [-1  3  2]]\n"
     ]
    }
   ],
   "source": [
    "print(A)"
   ]
  },
  {
   "cell_type": "code",
   "execution_count": 91,
   "id": "2a1a7e88-9537-45ff-9246-9730b1cb7e54",
   "metadata": {},
   "outputs": [
    {
     "name": "stdout",
     "output_type": "stream",
     "text": [
      "[[1 1 1]\n",
      " [3 5 7]]\n"
     ]
    }
   ],
   "source": [
    "print(B)"
   ]
  },
  {
   "cell_type": "code",
   "execution_count": 93,
   "id": "b78acac0-9a43-454a-8ec9-f0b5a1891715",
   "metadata": {},
   "outputs": [
    {
     "data": {
      "text/plain": [
       "array([[ 4, -1],\n",
       "       [ 0,  3],\n",
       "       [ 5,  2]])"
      ]
     },
     "execution_count": 93,
     "metadata": {},
     "output_type": "execute_result"
    }
   ],
   "source": [
    "# Transpose of Matrix A\n",
    "A.T"
   ]
  },
  {
   "cell_type": "code",
   "execution_count": 95,
   "id": "4845270f-374b-4b48-8eb2-9c94e3e0f54c",
   "metadata": {},
   "outputs": [
    {
     "data": {
      "text/plain": [
       "array([[ 4, -1],\n",
       "       [ 0,  3],\n",
       "       [ 5,  2]])"
      ]
     },
     "execution_count": 95,
     "metadata": {},
     "output_type": "execute_result"
    }
   ],
   "source": [
    "# Transpose of Matrix A in an alternative way\n",
    "np.transpose(A)"
   ]
  },
  {
   "cell_type": "markdown",
   "id": "a276f7cc-87c2-47ee-9eb0-dfe6879a602c",
   "metadata": {},
   "source": [
    "#### Theorems of Matrix Transpose"
   ]
  },
  {
   "cell_type": "markdown",
   "id": "8842fd28-97a2-421a-a19d-a9be95712954",
   "metadata": {},
   "source": [
    "$({A^T})^T = A$"
   ]
  },
  {
   "cell_type": "code",
   "execution_count": 99,
   "id": "13a88c06-2128-464a-b65e-75a5a41d2cfd",
   "metadata": {},
   "outputs": [
    {
     "data": {
      "text/plain": [
       "array([[ 4,  0,  5],\n",
       "       [-1,  3,  2]])"
      ]
     },
     "execution_count": 99,
     "metadata": {},
     "output_type": "execute_result"
    }
   ],
   "source": [
    "# Transpose of Transpose of Matrix A is Matrix A\n",
    "A.T.T"
   ]
  },
  {
   "cell_type": "code",
   "execution_count": 101,
   "id": "ff98dd4d-6b28-4022-9fce-1d88833b8ccc",
   "metadata": {},
   "outputs": [
    {
     "data": {
      "text/plain": [
       "array([[ True,  True,  True],\n",
       "       [ True,  True,  True]])"
      ]
     },
     "execution_count": 101,
     "metadata": {},
     "output_type": "execute_result"
    }
   ],
   "source": [
    "A == A.T.T"
   ]
  },
  {
   "cell_type": "markdown",
   "id": "34a77d75-7787-4269-b5d0-36e1d0012444",
   "metadata": {},
   "source": [
    "$(A + B)^T = {A^T} + {B^T}$"
   ]
  },
  {
   "cell_type": "code",
   "execution_count": 104,
   "id": "16ac78bd-d670-44f0-9df0-947d894b9f6a",
   "metadata": {},
   "outputs": [
    {
     "data": {
      "text/plain": [
       "array([[5, 2],\n",
       "       [1, 8],\n",
       "       [6, 9]])"
      ]
     },
     "execution_count": 104,
     "metadata": {},
     "output_type": "execute_result"
    }
   ],
   "source": [
    "(A + B).T"
   ]
  },
  {
   "cell_type": "code",
   "execution_count": 106,
   "id": "d0cd3436-d814-4c11-b75a-166dfa6937c5",
   "metadata": {},
   "outputs": [
    {
     "data": {
      "text/plain": [
       "array([[5, 2],\n",
       "       [1, 8],\n",
       "       [6, 9]])"
      ]
     },
     "execution_count": 106,
     "metadata": {},
     "output_type": "execute_result"
    }
   ],
   "source": [
    "A.T + B.T"
   ]
  },
  {
   "cell_type": "code",
   "execution_count": 108,
   "id": "07de3e89-6b68-43d6-b96e-221f99f4509f",
   "metadata": {},
   "outputs": [
    {
     "data": {
      "text/plain": [
       "array([[ True,  True],\n",
       "       [ True,  True],\n",
       "       [ True,  True]])"
      ]
     },
     "execution_count": 108,
     "metadata": {},
     "output_type": "execute_result"
    }
   ],
   "source": [
    "(A + B).T == A.T + B.T"
   ]
  },
  {
   "cell_type": "markdown",
   "id": "e9c5028c-2034-4e74-87d4-3162d12d749e",
   "metadata": {},
   "source": [
    "For any scalar: $(rA)^T = rA^T$"
   ]
  },
  {
   "cell_type": "markdown",
   "id": "bfa523b2-82dc-4d27-81ff-b8e2c41c7645",
   "metadata": {},
   "source": [
    "The `np.random.rand()` function generates a random number (floats) between 0 and 1."
   ]
  },
  {
   "cell_type": "code",
   "execution_count": 112,
   "id": "43cb3bc4-f47d-4a14-af3d-7e0e17a6a8ba",
   "metadata": {},
   "outputs": [
    {
     "name": "stdout",
     "output_type": "stream",
     "text": [
      "0.7539934421558185\n"
     ]
    }
   ],
   "source": [
    "# randomly assign a number to r\n",
    "# run this cell a few times, and you will see everytime the value of r is different\n",
    "r = np.random.rand()\n",
    "print(r)"
   ]
  },
  {
   "cell_type": "code",
   "execution_count": 114,
   "id": "f6985f17-3a07-4705-9b6f-c61775c80089",
   "metadata": {},
   "outputs": [
    {
     "data": {
      "text/plain": [
       "array([[ 3.01597377, -0.75399344],\n",
       "       [ 0.        ,  2.26198033],\n",
       "       [ 3.76996721,  1.50798688]])"
      ]
     },
     "execution_count": 114,
     "metadata": {},
     "output_type": "execute_result"
    }
   ],
   "source": [
    "(r * A).T"
   ]
  },
  {
   "cell_type": "code",
   "execution_count": 116,
   "id": "249272b6-079b-45da-9dfe-c48d82bc3786",
   "metadata": {},
   "outputs": [
    {
     "data": {
      "text/plain": [
       "array([[ 3.01597377, -0.75399344],\n",
       "       [ 0.        ,  2.26198033],\n",
       "       [ 3.76996721,  1.50798688]])"
      ]
     },
     "execution_count": 116,
     "metadata": {},
     "output_type": "execute_result"
    }
   ],
   "source": [
    "r * (A.T)"
   ]
  },
  {
   "cell_type": "code",
   "execution_count": 118,
   "id": "fd7566d9-3d2f-4b61-a2df-9b6efe878a91",
   "metadata": {},
   "outputs": [
    {
     "data": {
      "text/plain": [
       "array([[ True,  True],\n",
       "       [ True,  True],\n",
       "       [ True,  True]])"
      ]
     },
     "execution_count": 118,
     "metadata": {},
     "output_type": "execute_result"
    }
   ],
   "source": [
    "(r * A).T == r * (A.T)"
   ]
  },
  {
   "cell_type": "markdown",
   "id": "618db6df-eae8-4054-94e4-9be5bff3ec9c",
   "metadata": {},
   "source": [
    "$(AB)^T = B^T  A^T $"
   ]
  },
  {
   "cell_type": "markdown",
   "id": "3e020d6c-c0c4-4718-8908-98084e84af4d",
   "metadata": {},
   "source": [
    "To make sure the column of Matrix $A$ is equal to the row of Matrix $B$"
   ]
  },
  {
   "cell_type": "code",
   "execution_count": 122,
   "id": "eb3cc1ca-7fed-4af6-be6b-894ece37ba7e",
   "metadata": {},
   "outputs": [],
   "source": [
    "# Redefine Matrix B\n",
    "B = B.T"
   ]
  },
  {
   "cell_type": "code",
   "execution_count": 124,
   "id": "52916f45-5a0c-445c-b5ec-22358520bd92",
   "metadata": {},
   "outputs": [
    {
     "name": "stdout",
     "output_type": "stream",
     "text": [
      "[[1 3]\n",
      " [1 5]\n",
      " [1 7]]\n"
     ]
    }
   ],
   "source": [
    "print(B)"
   ]
  },
  {
   "cell_type": "code",
   "execution_count": 126,
   "id": "398e2363-19dd-4287-ae69-fd7f86377b1a",
   "metadata": {},
   "outputs": [
    {
     "data": {
      "text/plain": [
       "array([[ 9,  4],\n",
       "       [47, 26]])"
      ]
     },
     "execution_count": 126,
     "metadata": {},
     "output_type": "execute_result"
    }
   ],
   "source": [
    "(A@B).T"
   ]
  },
  {
   "cell_type": "code",
   "execution_count": 128,
   "id": "b6693326-1122-4107-a06d-418ef62c422c",
   "metadata": {},
   "outputs": [
    {
     "data": {
      "text/plain": [
       "array([[ 9,  4],\n",
       "       [47, 26]])"
      ]
     },
     "execution_count": 128,
     "metadata": {},
     "output_type": "execute_result"
    }
   ],
   "source": [
    "(B.T)@(A.T)"
   ]
  },
  {
   "cell_type": "code",
   "execution_count": 130,
   "id": "ec5d837a-9d66-47fb-a737-53289c20eff9",
   "metadata": {},
   "outputs": [
    {
     "data": {
      "text/plain": [
       "array([[ True,  True],\n",
       "       [ True,  True]])"
      ]
     },
     "execution_count": 130,
     "metadata": {},
     "output_type": "execute_result"
    }
   ],
   "source": [
    "(A@B).T == (B.T)@(A.T)"
   ]
  },
  {
   "cell_type": "markdown",
   "id": "47b3b7b2-e53b-447f-8672-bef8cf54a3c6",
   "metadata": {},
   "source": [
    "### The Inverse of a Matrix"
   ]
  },
  {
   "cell_type": "code",
   "execution_count": 133,
   "id": "798f1abc-5b69-4008-8e25-ece3ba02c474",
   "metadata": {},
   "outputs": [
    {
     "name": "stdout",
     "output_type": "stream",
     "text": [
      "[[ 4  0  5]\n",
      " [-1  3  2]]\n"
     ]
    }
   ],
   "source": [
    "print(A)"
   ]
  },
  {
   "cell_type": "markdown",
   "id": "9ef4eb5b-6493-445a-bba5-07f003f0ac9d",
   "metadata": {},
   "source": [
    "$A^{-1}A = I \\quad \\text{and} \\quad AA^{-1} = I$\n"
   ]
  },
  {
   "cell_type": "markdown",
   "id": "b06c3036-ff59-4497-8fe4-5059b8057943",
   "metadata": {},
   "source": [
    "A matrix that is not invertible is sometimes called a $\\textit{singular matrix}$, and an invertible matrix is called a $\\textit{non-singular matrix}$."
   ]
  },
  {
   "cell_type": "markdown",
   "id": "838a2162-8e77-40e1-be4e-a0144b13b132",
   "metadata": {},
   "source": [
    "The inverse of a matrix in **NumPy** requires call the linear algebra submodule `np.linalg`. \n",
    "\n",
    "For more information on the documentation of functions within the submodule, please refer: https://numpy.org/doc/stable/reference/routines.linalg.html#routines-linalg"
   ]
  },
  {
   "cell_type": "code",
   "execution_count": 138,
   "id": "4d0afe14-2bd7-4a78-b621-cc1ca9d902fc",
   "metadata": {},
   "outputs": [
    {
     "ename": "LinAlgError",
     "evalue": "Last 2 dimensions of the array must be square",
     "output_type": "error",
     "traceback": [
      "\u001b[0;31m---------------------------------------------------------------------------\u001b[0m",
      "\u001b[0;31mLinAlgError\u001b[0m                               Traceback (most recent call last)",
      "\u001b[0;32m/var/folders/xl/xzk9t6kn3ps3psv1g1vtb9wm0000gn/T/ipykernel_57115/2691010479.py\u001b[0m in \u001b[0;36m<module>\u001b[0;34m\u001b[0m\n\u001b[1;32m      1\u001b[0m \u001b[0;31m# Inverse of Matrix A\u001b[0m\u001b[0;34m\u001b[0m\u001b[0;34m\u001b[0m\u001b[0m\n\u001b[1;32m      2\u001b[0m \u001b[0;31m# singular matrix\u001b[0m\u001b[0;34m\u001b[0m\u001b[0;34m\u001b[0m\u001b[0m\n\u001b[0;32m----> 3\u001b[0;31m \u001b[0mprint\u001b[0m\u001b[0;34m(\u001b[0m\u001b[0mnp\u001b[0m\u001b[0;34m.\u001b[0m\u001b[0mlinalg\u001b[0m\u001b[0;34m.\u001b[0m\u001b[0minv\u001b[0m\u001b[0;34m(\u001b[0m\u001b[0mA\u001b[0m\u001b[0;34m)\u001b[0m\u001b[0;34m)\u001b[0m\u001b[0;34m\u001b[0m\u001b[0;34m\u001b[0m\u001b[0m\n\u001b[0m",
      "\u001b[0;32m<__array_function__ internals>\u001b[0m in \u001b[0;36minv\u001b[0;34m(*args, **kwargs)\u001b[0m\n",
      "\u001b[0;32m/opt/anaconda3/lib/python3.9/site-packages/numpy/linalg/linalg.py\u001b[0m in \u001b[0;36minv\u001b[0;34m(a)\u001b[0m\n\u001b[1;32m    538\u001b[0m     \u001b[0ma\u001b[0m\u001b[0;34m,\u001b[0m \u001b[0mwrap\u001b[0m \u001b[0;34m=\u001b[0m \u001b[0m_makearray\u001b[0m\u001b[0;34m(\u001b[0m\u001b[0ma\u001b[0m\u001b[0;34m)\u001b[0m\u001b[0;34m\u001b[0m\u001b[0;34m\u001b[0m\u001b[0m\n\u001b[1;32m    539\u001b[0m     \u001b[0m_assert_stacked_2d\u001b[0m\u001b[0;34m(\u001b[0m\u001b[0ma\u001b[0m\u001b[0;34m)\u001b[0m\u001b[0;34m\u001b[0m\u001b[0;34m\u001b[0m\u001b[0m\n\u001b[0;32m--> 540\u001b[0;31m     \u001b[0m_assert_stacked_square\u001b[0m\u001b[0;34m(\u001b[0m\u001b[0ma\u001b[0m\u001b[0;34m)\u001b[0m\u001b[0;34m\u001b[0m\u001b[0;34m\u001b[0m\u001b[0m\n\u001b[0m\u001b[1;32m    541\u001b[0m     \u001b[0mt\u001b[0m\u001b[0;34m,\u001b[0m \u001b[0mresult_t\u001b[0m \u001b[0;34m=\u001b[0m \u001b[0m_commonType\u001b[0m\u001b[0;34m(\u001b[0m\u001b[0ma\u001b[0m\u001b[0;34m)\u001b[0m\u001b[0;34m\u001b[0m\u001b[0;34m\u001b[0m\u001b[0m\n\u001b[1;32m    542\u001b[0m \u001b[0;34m\u001b[0m\u001b[0m\n",
      "\u001b[0;32m/opt/anaconda3/lib/python3.9/site-packages/numpy/linalg/linalg.py\u001b[0m in \u001b[0;36m_assert_stacked_square\u001b[0;34m(*arrays)\u001b[0m\n\u001b[1;32m    201\u001b[0m         \u001b[0mm\u001b[0m\u001b[0;34m,\u001b[0m \u001b[0mn\u001b[0m \u001b[0;34m=\u001b[0m \u001b[0ma\u001b[0m\u001b[0;34m.\u001b[0m\u001b[0mshape\u001b[0m\u001b[0;34m[\u001b[0m\u001b[0;34m-\u001b[0m\u001b[0;36m2\u001b[0m\u001b[0;34m:\u001b[0m\u001b[0;34m]\u001b[0m\u001b[0;34m\u001b[0m\u001b[0;34m\u001b[0m\u001b[0m\n\u001b[1;32m    202\u001b[0m         \u001b[0;32mif\u001b[0m \u001b[0mm\u001b[0m \u001b[0;34m!=\u001b[0m \u001b[0mn\u001b[0m\u001b[0;34m:\u001b[0m\u001b[0;34m\u001b[0m\u001b[0;34m\u001b[0m\u001b[0m\n\u001b[0;32m--> 203\u001b[0;31m             \u001b[0;32mraise\u001b[0m \u001b[0mLinAlgError\u001b[0m\u001b[0;34m(\u001b[0m\u001b[0;34m'Last 2 dimensions of the array must be square'\u001b[0m\u001b[0;34m)\u001b[0m\u001b[0;34m\u001b[0m\u001b[0;34m\u001b[0m\u001b[0m\n\u001b[0m\u001b[1;32m    204\u001b[0m \u001b[0;34m\u001b[0m\u001b[0m\n\u001b[1;32m    205\u001b[0m \u001b[0;32mdef\u001b[0m \u001b[0m_assert_finite\u001b[0m\u001b[0;34m(\u001b[0m\u001b[0;34m*\u001b[0m\u001b[0marrays\u001b[0m\u001b[0;34m)\u001b[0m\u001b[0;34m:\u001b[0m\u001b[0;34m\u001b[0m\u001b[0;34m\u001b[0m\u001b[0m\n",
      "\u001b[0;31mLinAlgError\u001b[0m: Last 2 dimensions of the array must be square"
     ]
    }
   ],
   "source": [
    "# Inverse of Matrix A\n",
    "# singular matrix\n",
    "print(np.linalg.inv(A))"
   ]
  },
  {
   "cell_type": "code",
   "execution_count": 140,
   "id": "5f19c69c-aa6c-4550-8c5a-c017b94225a3",
   "metadata": {},
   "outputs": [],
   "source": [
    "A_square = np.array([[2, 5],[-3, -7]])"
   ]
  },
  {
   "cell_type": "code",
   "execution_count": 142,
   "id": "d239c565-fc35-4e99-b55f-c1cd3297b719",
   "metadata": {},
   "outputs": [
    {
     "name": "stdout",
     "output_type": "stream",
     "text": [
      "[[ 2  5]\n",
      " [-3 -7]]\n"
     ]
    }
   ],
   "source": [
    "print(A_square)"
   ]
  },
  {
   "cell_type": "code",
   "execution_count": 144,
   "id": "a35dbb57-4e1b-4776-9667-4e9ad70c6ab3",
   "metadata": {},
   "outputs": [
    {
     "name": "stdout",
     "output_type": "stream",
     "text": [
      "[[-7. -5.]\n",
      " [ 3.  2.]]\n"
     ]
    }
   ],
   "source": [
    "print(np.linalg.inv(A_square))"
   ]
  },
  {
   "cell_type": "code",
   "execution_count": 146,
   "id": "1ad80a96-8eac-4c20-b297-c415379f2dfe",
   "metadata": {},
   "outputs": [],
   "source": [
    "A_square_inv = np.linalg.inv(A_square)"
   ]
  },
  {
   "cell_type": "code",
   "execution_count": 148,
   "id": "8e23a00e-0b2e-4b13-84d5-2e416096b91b",
   "metadata": {},
   "outputs": [
    {
     "data": {
      "text/plain": [
       "array([[ 1.00000000e+00, -1.77635684e-15],\n",
       "       [ 0.00000000e+00,  1.00000000e+00]])"
      ]
     },
     "execution_count": 148,
     "metadata": {},
     "output_type": "execute_result"
    }
   ],
   "source": [
    "A_square@A_square_inv"
   ]
  },
  {
   "cell_type": "markdown",
   "id": "d9a1d55b-5c65-4348-b21c-50ca34a7682c",
   "metadata": {},
   "source": [
    "#### What do you observe from the above operation? \n",
    "\n",
    "\n",
    "#### Why do you think the result is not the 2-by-2 Identity Matrix?"
   ]
  },
  {
   "cell_type": "markdown",
   "id": "79db4be7-6a22-4444-934a-2516a0ad8b02",
   "metadata": {},
   "source": [
    "### Identity Matrix $\\it I$"
   ]
  },
  {
   "cell_type": "markdown",
   "id": "9ea3ecf6-353d-4af2-810d-94ef3a235ef4",
   "metadata": {},
   "source": [
    "The Identity Matrix can be created by calling the `np.eye()` function.\n",
    "\n",
    "It is consistent with the `eye()` function in **MATLAB**."
   ]
  },
  {
   "cell_type": "code",
   "execution_count": 153,
   "id": "f94d178e-e8b7-4cac-970c-db591e4f9102",
   "metadata": {},
   "outputs": [],
   "source": [
    "# 2-by-2 Matrix\n",
    "I = np.eye(2)"
   ]
  },
  {
   "cell_type": "code",
   "execution_count": 155,
   "id": "6f099443-eb5a-45b5-8dea-47f0aab33b7c",
   "metadata": {},
   "outputs": [
    {
     "name": "stdout",
     "output_type": "stream",
     "text": [
      "[[1. 0.]\n",
      " [0. 1.]]\n"
     ]
    }
   ],
   "source": [
    "print(I)"
   ]
  },
  {
   "cell_type": "markdown",
   "id": "e2b4a111-b418-45c3-ae99-a92df8289e0e",
   "metadata": {},
   "source": [
    "Check the identity $\\quad AA^{-1} = I$"
   ]
  },
  {
   "cell_type": "code",
   "execution_count": 158,
   "id": "96855635-e972-413c-8b9e-651d9fa9e45c",
   "metadata": {},
   "outputs": [
    {
     "data": {
      "text/plain": [
       "array([[False, False],\n",
       "       [ True,  True]])"
      ]
     },
     "execution_count": 158,
     "metadata": {},
     "output_type": "execute_result"
    }
   ],
   "source": [
    "A_square@A_square_inv == I"
   ]
  },
  {
   "cell_type": "markdown",
   "id": "3d0201ce-7dd4-4260-9e77-133c2b6ef4b7",
   "metadata": {},
   "source": [
    "Here, we introduce the `np.allclose` to check the equation."
   ]
  },
  {
   "cell_type": "code",
   "execution_count": 161,
   "id": "c0af6cc7-88f5-436e-b8b4-fa28851bec32",
   "metadata": {},
   "outputs": [
    {
     "data": {
      "text/plain": [
       "True"
      ]
     },
     "execution_count": 161,
     "metadata": {},
     "output_type": "execute_result"
    }
   ],
   "source": [
    "np.allclose(A_square@A_square_inv,I)"
   ]
  },
  {
   "cell_type": "markdown",
   "id": "a47e6052-94d1-48e7-bb47-ebc57f622c4b",
   "metadata": {},
   "source": [
    "#### Theorems of Matrix Inverse"
   ]
  },
  {
   "cell_type": "markdown",
   "id": "48202a14-bd81-4ebf-a788-5380d353a784",
   "metadata": {},
   "source": [
    "$\\left(A^{-1}\\right)^{-1} = A$"
   ]
  },
  {
   "cell_type": "code",
   "execution_count": 165,
   "id": "16832f0c-bcf4-4333-9828-aa164aadd8c8",
   "metadata": {},
   "outputs": [
    {
     "name": "stdout",
     "output_type": "stream",
     "text": [
      "[[ 2  5]\n",
      " [-3 -7]]\n"
     ]
    }
   ],
   "source": [
    "print(A_square)"
   ]
  },
  {
   "cell_type": "code",
   "execution_count": 167,
   "id": "8c3344f9-831a-4160-8293-10144bc0ced0",
   "metadata": {},
   "outputs": [
    {
     "name": "stdout",
     "output_type": "stream",
     "text": [
      "[[-7. -5.]\n",
      " [ 3.  2.]]\n"
     ]
    }
   ],
   "source": [
    "print(A_square_inv)"
   ]
  },
  {
   "cell_type": "code",
   "execution_count": 169,
   "id": "aac1cf74-f8e4-479e-b7c1-3c8195c1ba2a",
   "metadata": {},
   "outputs": [
    {
     "name": "stdout",
     "output_type": "stream",
     "text": [
      "[[ 2.  5.]\n",
      " [-3. -7.]]\n"
     ]
    }
   ],
   "source": [
    "print(np.linalg.inv(A_square_inv))"
   ]
  },
  {
   "cell_type": "code",
   "execution_count": 171,
   "id": "8454c5fc-8557-4c88-b128-76c431ef9087",
   "metadata": {},
   "outputs": [
    {
     "data": {
      "text/plain": [
       "True"
      ]
     },
     "execution_count": 171,
     "metadata": {},
     "output_type": "execute_result"
    }
   ],
   "source": [
    "np.allclose(A_square, np.linalg.inv(A_square_inv))"
   ]
  },
  {
   "cell_type": "markdown",
   "id": "f3582f95-ecab-4bb7-9e66-2356c7f9740c",
   "metadata": {},
   "source": [
    "$(AB)^{-1} = B^{-1}A^{-1}$"
   ]
  },
  {
   "cell_type": "code",
   "execution_count": 174,
   "id": "6751e4bc-e7cb-45b2-9b81-0ac5ef125043",
   "metadata": {},
   "outputs": [],
   "source": [
    "B_square = np.array([[3, 4],[5, 6]])"
   ]
  },
  {
   "cell_type": "code",
   "execution_count": 176,
   "id": "f9fb4178-7239-4d8f-a156-44a0d4f649ec",
   "metadata": {},
   "outputs": [
    {
     "name": "stdout",
     "output_type": "stream",
     "text": [
      "[[ 27.   19. ]\n",
      " [-22.  -15.5]]\n"
     ]
    }
   ],
   "source": [
    "AB_inv = np.linalg.inv(A_square@B_square)\n",
    "print(AB_inv)"
   ]
  },
  {
   "cell_type": "code",
   "execution_count": 178,
   "id": "da05d91e-34f2-4402-936e-7796a5620206",
   "metadata": {},
   "outputs": [
    {
     "name": "stdout",
     "output_type": "stream",
     "text": [
      "[[ 27.   19. ]\n",
      " [-22.  -15.5]]\n"
     ]
    }
   ],
   "source": [
    "B_square_inv = np.linalg.inv(B_square)\n",
    "print(B_square_inv@A_square_inv)"
   ]
  },
  {
   "cell_type": "code",
   "execution_count": 180,
   "id": "7be2f820-dfff-4275-83cc-3f9fd71d0bb2",
   "metadata": {},
   "outputs": [
    {
     "data": {
      "text/plain": [
       "True"
      ]
     },
     "execution_count": 180,
     "metadata": {},
     "output_type": "execute_result"
    }
   ],
   "source": [
    "np.allclose(AB_inv,B_square_inv@A_square_inv)"
   ]
  },
  {
   "cell_type": "markdown",
   "id": "35bcfbbb-33a6-4774-9447-71c107bf6b7c",
   "metadata": {},
   "source": [
    "$(A^T)^{-1} = (A^{-1})^T$"
   ]
  },
  {
   "cell_type": "code",
   "execution_count": 183,
   "id": "a809f65d-8c20-428e-a47b-7aa7d3497eb1",
   "metadata": {},
   "outputs": [
    {
     "name": "stdout",
     "output_type": "stream",
     "text": [
      "[[-7.  3.]\n",
      " [-5.  2.]]\n"
     ]
    }
   ],
   "source": [
    "A_square_inv_t = np.linalg.inv(A_square.T)\n",
    "print(A_square_inv_t)"
   ]
  },
  {
   "cell_type": "code",
   "execution_count": 185,
   "id": "80082267-dcaf-4e01-be18-41d8157348ab",
   "metadata": {},
   "outputs": [
    {
     "name": "stdout",
     "output_type": "stream",
     "text": [
      "[[-7.  3.]\n",
      " [-5.  2.]]\n"
     ]
    }
   ],
   "source": [
    "A_square_t_inv = (np.linalg.inv(A_square)).T\n",
    "print(A_square_t_inv)"
   ]
  },
  {
   "cell_type": "code",
   "execution_count": 187,
   "id": "6ee16fb0-5096-490f-b43a-7305a741ef2e",
   "metadata": {},
   "outputs": [
    {
     "data": {
      "text/plain": [
       "True"
      ]
     },
     "execution_count": 187,
     "metadata": {},
     "output_type": "execute_result"
    }
   ],
   "source": [
    "np.allclose(A_square_inv_t,A_square_t_inv)"
   ]
  },
  {
   "cell_type": "markdown",
   "id": "93a75b9a-8056-436b-9e6c-ea96d1a45a64",
   "metadata": {},
   "source": [
    "### Dimension and Rank of Matrix"
   ]
  },
  {
   "cell_type": "code",
   "execution_count": 190,
   "id": "86f3148e-44f8-4cee-897f-e8c467fe8da0",
   "metadata": {},
   "outputs": [
    {
     "name": "stdout",
     "output_type": "stream",
     "text": [
      "[[ 3  6  2]\n",
      " [-1  0  1]\n",
      " [ 3 12  7]]\n"
     ]
    }
   ],
   "source": [
    "H = np.array([[3, 6, 2], [-1, 0, 1], [3, 12, 7]])\n",
    "print(H)"
   ]
  },
  {
   "cell_type": "code",
   "execution_count": 192,
   "id": "9b902420-46ec-4b19-b3d8-6cd45f5d08eb",
   "metadata": {},
   "outputs": [
    {
     "data": {
      "text/plain": [
       "2"
      ]
     },
     "execution_count": 192,
     "metadata": {},
     "output_type": "execute_result"
    }
   ],
   "source": [
    "# Dimension of Matrix H\n",
    "H.ndim"
   ]
  },
  {
   "cell_type": "code",
   "execution_count": 194,
   "id": "f78dd2a0-860f-44d0-90b0-4c53f86cefaf",
   "metadata": {},
   "outputs": [
    {
     "data": {
      "text/plain": [
       "2"
      ]
     },
     "execution_count": 194,
     "metadata": {},
     "output_type": "execute_result"
    }
   ],
   "source": [
    "# Rank of Matrix H\n",
    "np.linalg.matrix_rank(H)"
   ]
  },
  {
   "cell_type": "markdown",
   "id": "8adc5901-3932-4825-86b5-672693e9f99b",
   "metadata": {},
   "source": [
    "## Determinants"
   ]
  },
  {
   "cell_type": "markdown",
   "id": "934df8c1-68d4-4a76-a522-23fdc158c1d9",
   "metadata": {},
   "source": [
    "The determinant of a \\$2 \\times 2\\$ matrix is defined as follows:\n",
    "\n",
    "$A = \\begin{bmatrix} a_{11} & a_{12} \\\\ a_{21} & a_{22} \\end{bmatrix}$\n",
    "\n",
    "$\\det(A) = a_{11}a_{22} - a_{12}a_{21}$"
   ]
  },
  {
   "cell_type": "code",
   "execution_count": 198,
   "id": "ac6ba8e2-9525-4e7e-8e42-ee8b26c59c9a",
   "metadata": {},
   "outputs": [
    {
     "name": "stdout",
     "output_type": "stream",
     "text": [
      "[[ 2  5]\n",
      " [-3 -7]]\n"
     ]
    }
   ],
   "source": [
    "print(A_square)"
   ]
  },
  {
   "cell_type": "code",
   "execution_count": 200,
   "id": "6886a991-8b4e-4388-8a29-16c09a4bc54e",
   "metadata": {},
   "outputs": [],
   "source": [
    "A_square_det = np.linalg.det(A_square)"
   ]
  },
  {
   "cell_type": "code",
   "execution_count": 202,
   "id": "055c55de-6333-4ce9-be99-9d323bce45da",
   "metadata": {},
   "outputs": [
    {
     "name": "stdout",
     "output_type": "stream",
     "text": [
      "1.0000000000000018\n"
     ]
    }
   ],
   "source": [
    "print(A_square_det)"
   ]
  },
  {
   "cell_type": "markdown",
   "id": "2fb7580f-4146-403e-aa11-87bc97b8ec64",
   "metadata": {},
   "source": [
    "The determinant of a \\$3 \\times 3\\$ matrix is defined as follows:\n",
    "\n",
    "$A = \\begin{bmatrix} a_{11} & a_{12} & a_{13} \\\\ a_{21} & a_{22} & a_{23} \\\\ a_{31} & a_{32} & a_{33} \\end{bmatrix}$\n",
    "\n",
    "$\\det(A) = a_{11} \\begin{vmatrix} a_{22} & a_{23} \\\\ a_{32} & a_{33} \\end{vmatrix} - a_{12} \\begin{vmatrix} a_{21} & a_{23} \\\\ a_{31} & a_{33} \\end{vmatrix} + a_{13} \\begin{vmatrix} a_{21} & a_{22} \\\\ a_{31} & a_{32} \\end{vmatrix}.$"
   ]
  },
  {
   "cell_type": "code",
   "execution_count": 205,
   "id": "cc66131f-182b-4964-b928-3c41534e821a",
   "metadata": {},
   "outputs": [
    {
     "name": "stdout",
     "output_type": "stream",
     "text": [
      "[[ 1  5  0]\n",
      " [ 2  4 -1]\n",
      " [ 0 -2  0]]\n"
     ]
    }
   ],
   "source": [
    "A_33 = np.array([[1, 5, 0], [2, 4, -1], [0, -2, 0]])\n",
    "print(A_33)"
   ]
  },
  {
   "cell_type": "code",
   "execution_count": 207,
   "id": "140d71ab-331f-477a-82f1-653aab24ac07",
   "metadata": {},
   "outputs": [],
   "source": [
    "A_33_det = np.linalg.det(A_33)"
   ]
  },
  {
   "cell_type": "code",
   "execution_count": 209,
   "id": "343ce306-f9b7-49f1-9b91-040b50f86631",
   "metadata": {},
   "outputs": [
    {
     "name": "stdout",
     "output_type": "stream",
     "text": [
      "-1.9999999999999998\n"
     ]
    }
   ],
   "source": [
    "print(A_33_det)"
   ]
  },
  {
   "cell_type": "markdown",
   "id": "a099dda3-fb12-4616-9959-4ccb0090ff8f",
   "metadata": {},
   "source": [
    "Due to the numerical inaccuracies (this is an advanced topic on the algorithm behind `np.linalg.det()`), we need to use `round()` function to get the right result."
   ]
  },
  {
   "cell_type": "code",
   "execution_count": 212,
   "id": "436742b8-f95c-4118-ad59-8e1afaa5a6f9",
   "metadata": {},
   "outputs": [
    {
     "name": "stdout",
     "output_type": "stream",
     "text": [
      "1\n"
     ]
    }
   ],
   "source": [
    "A_square_det_round = round(np.linalg.det(A_square))\n",
    "print(A_square_det_round)"
   ]
  },
  {
   "cell_type": "code",
   "execution_count": 214,
   "id": "ba6f101e-0832-4e6b-9760-d6059bac6af4",
   "metadata": {},
   "outputs": [
    {
     "name": "stdout",
     "output_type": "stream",
     "text": [
      "-2\n"
     ]
    }
   ],
   "source": [
    "A_33_det_round = round(np.linalg.det(A_33))\n",
    "print(A_33_det_round)"
   ]
  },
  {
   "cell_type": "markdown",
   "id": "08f0c25b-c95b-4762-bae8-145409484189",
   "metadata": {},
   "source": [
    "## Try the following exercies by yourself:\n",
    "\n",
    "1. Construct a linear system (at least three variables) and create the coefficient matrix and augmented matrix.\n",
    "\n",
    "2. Construct a few n-dimensional vector (n > 2) and test the rules of operation among those vectors.\n",
    "\n",
    "3. Construct a few matrices and test the rules of operation among those matrices.\n",
    "\n",
    "4. Construct an invertible matrix, and calculate the dimension, the rank, and the determinant of it.\n"
   ]
  },
  {
   "cell_type": "markdown",
   "id": "26f90762-9e7f-482f-918f-6f2766d76ac3",
   "metadata": {},
   "source": [
    "# Reference: \n",
    "\n",
    "David C. Lay et al., (2016) Linear Algebra and its Applications, fifth edition, Pearson "
   ]
  },
  {
   "cell_type": "markdown",
   "id": "6a3cf614-ebe6-4d6c-83f5-f1cc76ecef64",
   "metadata": {},
   "source": [
    "Some examples are taken from Chapter 1 and Chapter 4 of the reference book."
   ]
  }
 ],
 "metadata": {
  "kernelspec": {
   "display_name": "Python 3 (ipykernel)",
   "language": "python",
   "name": "python3"
  },
  "language_info": {
   "codemirror_mode": {
    "name": "ipython",
    "version": 3
   },
   "file_extension": ".py",
   "mimetype": "text/x-python",
   "name": "python",
   "nbconvert_exporter": "python",
   "pygments_lexer": "ipython3",
   "version": "3.9.12"
  }
 },
 "nbformat": 4,
 "nbformat_minor": 5
}
