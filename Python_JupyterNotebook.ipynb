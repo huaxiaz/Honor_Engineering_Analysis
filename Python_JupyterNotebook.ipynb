{
 "cells": [
  {
   "cell_type": "markdown",
   "id": "f85e19c1-dab4-455f-9a74-37e627ed2b07",
   "metadata": {
    "tags": []
   },
   "source": [
    "# Quick Start for Python Programming"
   ]
  },
  {
   "cell_type": "markdown",
   "id": "1ca2254a-9c5d-41e7-8d04-cf4be68e5ed1",
   "metadata": {},
   "source": [
    "## This is a Jupyter Notebook. \n",
    "\n",
    "To run a gray code cell, click in the cell and either click on the \"play\" arrow, or type shift+enter (or shift+return on a Mac)."
   ]
  },
  {
   "cell_type": "code",
   "execution_count": 3,
   "id": "70c1eb65-fb15-481a-bcc9-e09cabcf34ba",
   "metadata": {},
   "outputs": [
    {
     "name": "stdout",
     "output_type": "stream",
     "text": [
      "Hello World!\n"
     ]
    }
   ],
   "source": [
    "print(\"Hello World!\")"
   ]
  },
  {
   "cell_type": "markdown",
   "id": "9912fbb3-a936-4636-ad06-81fc3009cc20",
   "metadata": {},
   "source": [
    "When you type in the gray code cell and hit shift+enter, you **run** the code.\n",
    "\n",
    "If something gets printed out to the screen after you run the code, we say it is **returned**."
   ]
  },
  {
   "cell_type": "markdown",
   "id": "f68467b8-f6c5-48f1-b778-3f179cf82c10",
   "metadata": {},
   "source": [
    "Cells containing texts like this one do not contain code. They are written in a language called Markdown. If you accidentally double click in a markdown cell, it won't cause any problems. "
   ]
  },
  {
   "cell_type": "markdown",
   "id": "d906437a-b878-4a0b-bc36-3a639e87f617",
   "metadata": {},
   "source": [
    "Please double click on this text. You can run the cell by hitting shift+enter. You will find it looks like nicely formatted text."
   ]
  },
  {
   "cell_type": "markdown",
   "id": "77c05093-a9a1-4f2f-9029-b027ce26db6b",
   "metadata": {},
   "source": [
    "## Python is an interpreted language"
   ]
  },
  {
   "cell_type": "markdown",
   "id": "6e471a49-fdf4-4622-a1aa-d63d3579a938",
   "metadata": {},
   "source": [
    "In a *compiled* language, you generally need to write all your code before transforming it into an executable program using specific commands.Only after this compilation can you run your program.\n",
    "\n",
    "\n",
    "In contrast, *Interpreted* languages compile code as you execute it. This allows for a more straightforward, line-by-line development process, making it easier to understand what’s happening in your code."
   ]
  },
  {
   "cell_type": "markdown",
   "id": "a74a930b-21e1-4602-b0de-d20481e8e636",
   "metadata": {},
   "source": [
    "**Jupyter Notebook** is an **Interactive Programming Environment**: that allows you to execute code one line at a time through a **shell** (interpreter or console)."
   ]
  },
  {
   "cell_type": "markdown",
   "id": "2e82cbf7-b969-4196-8714-b16ae540abd4",
   "metadata": {},
   "source": [
    "This notebook provides a quick overview on the basics of Python Programming."
   ]
  },
  {
   "cell_type": "markdown",
   "id": "132c6ecc-9641-44af-bda9-583da804f795",
   "metadata": {
    "tags": []
   },
   "source": [
    "## Operators"
   ]
  },
  {
   "cell_type": "markdown",
   "id": "df194070-747e-4899-8f85-6aa9d9d71933",
   "metadata": {},
   "source": [
    "### Arithmetic Operators (Calculator)"
   ]
  },
  {
   "cell_type": "code",
   "execution_count": 15,
   "id": "ee9217c9-e611-4724-9a46-3df2794a16a0",
   "metadata": {},
   "outputs": [
    {
     "data": {
      "text/plain": [
       "9"
      ]
     },
     "execution_count": 15,
     "metadata": {},
     "output_type": "execute_result"
    }
   ],
   "source": [
    "# Addition\n",
    "4 + 5"
   ]
  },
  {
   "cell_type": "markdown",
   "id": "0370dada-6436-4230-aa63-a3ec81849868",
   "metadata": {},
   "source": [
    "You might notice the spaces around the operators: \n",
    "\n",
    "`4 + 5`\n",
    "\n",
    "instead of\n",
    "\n",
    "`4+5`\n",
    "\n",
    "It is more readable. The math would work without spaces, but it's a good idea to get into the habit of writing [\"Pythonic\"](https://builtin.com/data-science/pythonic) code."
   ]
  },
  {
   "cell_type": "code",
   "execution_count": 18,
   "id": "1f22fe0b-1cd2-4908-b1c5-bc3093a2a9a4",
   "metadata": {},
   "outputs": [
    {
     "data": {
      "text/plain": [
       "-1"
      ]
     },
     "execution_count": 18,
     "metadata": {},
     "output_type": "execute_result"
    }
   ],
   "source": [
    "# Subtraction\n",
    "4 - 5"
   ]
  },
  {
   "cell_type": "code",
   "execution_count": 20,
   "id": "bf0359f1-c06f-41b1-ac6f-4b44c4a8289a",
   "metadata": {},
   "outputs": [
    {
     "data": {
      "text/plain": [
       "20"
      ]
     },
     "execution_count": 20,
     "metadata": {},
     "output_type": "execute_result"
    }
   ],
   "source": [
    "# Multiplication\n",
    "4 * 5"
   ]
  },
  {
   "cell_type": "code",
   "execution_count": 22,
   "id": "70504ec6-6eb4-4acf-9d11-cc4517d9482f",
   "metadata": {},
   "outputs": [
    {
     "data": {
      "text/plain": [
       "1.25"
      ]
     },
     "execution_count": 22,
     "metadata": {},
     "output_type": "execute_result"
    }
   ],
   "source": [
    "# Division\n",
    "5 / 4"
   ]
  },
  {
   "cell_type": "code",
   "execution_count": 24,
   "id": "3ff0b7d9-487b-4588-a8db-f708eefa8797",
   "metadata": {},
   "outputs": [
    {
     "data": {
      "text/plain": [
       "1"
      ]
     },
     "execution_count": 24,
     "metadata": {},
     "output_type": "execute_result"
    }
   ],
   "source": [
    "# Floor division (Only include the integer part)\n",
    "5 // 4"
   ]
  },
  {
   "cell_type": "code",
   "execution_count": 26,
   "id": "80eed235-250a-4786-b72c-3d8058ffaecf",
   "metadata": {},
   "outputs": [
    {
     "data": {
      "text/plain": [
       "1"
      ]
     },
     "execution_count": 26,
     "metadata": {},
     "output_type": "execute_result"
    }
   ],
   "source": [
    "# Remainder\n",
    "5%4"
   ]
  },
  {
   "cell_type": "code",
   "execution_count": 28,
   "id": "7b308462-44d1-4ceb-8323-604d15f7ca16",
   "metadata": {},
   "outputs": [
    {
     "data": {
      "text/plain": [
       "25"
      ]
     },
     "execution_count": 28,
     "metadata": {},
     "output_type": "execute_result"
    }
   ],
   "source": [
    "# Power\n",
    "5 ** 2"
   ]
  },
  {
   "cell_type": "markdown",
   "id": "95868109-0dca-4613-8ed5-8ca30d610a1c",
   "metadata": {},
   "source": [
    "Python follows the [PEMDAS](https://thehelloworldprogram.com/python/python-operators-order-precedence/) order of operations: "
   ]
  },
  {
   "cell_type": "markdown",
   "id": "e488f609-ef42-44b7-ba9a-dd5c0781dc02",
   "metadata": {},
   "source": [
    "### Comparison operators"
   ]
  },
  {
   "cell_type": "markdown",
   "id": "01f45efb-d0b1-4826-8ceb-adf6d79fda4e",
   "metadata": {},
   "source": [
    "Implementing these operators will return a [**boolean**](https://en.wikipedia.org/wiki/Boolean_algebra) object: True or False."
   ]
  },
  {
   "cell_type": "code",
   "execution_count": 33,
   "id": "55523d09-6cc0-4425-9207-b94a8ac66082",
   "metadata": {},
   "outputs": [
    {
     "data": {
      "text/plain": [
       "True"
      ]
     },
     "execution_count": 33,
     "metadata": {},
     "output_type": "execute_result"
    }
   ],
   "source": [
    "5 > 4"
   ]
  },
  {
   "cell_type": "code",
   "execution_count": 35,
   "id": "7b6d0a5c-5b5a-4e37-ad2c-df0d5b4f5abc",
   "metadata": {},
   "outputs": [
    {
     "data": {
      "text/plain": [
       "False"
      ]
     },
     "execution_count": 35,
     "metadata": {},
     "output_type": "execute_result"
    }
   ],
   "source": [
    "5 < 4"
   ]
  },
  {
   "cell_type": "markdown",
   "id": "801da8d7-7fed-4b06-89c5-fcf88bacf26d",
   "metadata": {},
   "source": [
    "Note: `==` is used as comparison operator of equality rather than `=` !"
   ]
  },
  {
   "cell_type": "code",
   "execution_count": 38,
   "id": "857c1237-4fb9-4f1e-a0c5-587c9841c0b9",
   "metadata": {},
   "outputs": [
    {
     "data": {
      "text/plain": [
       "False"
      ]
     },
     "execution_count": 38,
     "metadata": {},
     "output_type": "execute_result"
    }
   ],
   "source": [
    "5 == 4"
   ]
  },
  {
   "cell_type": "code",
   "execution_count": 40,
   "id": "461ba4d2-6b48-4ef0-a98b-a109542ffd29",
   "metadata": {},
   "outputs": [
    {
     "data": {
      "text/plain": [
       "True"
      ]
     },
     "execution_count": 40,
     "metadata": {},
     "output_type": "execute_result"
    }
   ],
   "source": [
    "4 == 4"
   ]
  },
  {
   "cell_type": "markdown",
   "id": "8660444c-428b-4119-9932-87270efe986a",
   "metadata": {},
   "source": [
    "To check if two things are **not equal**, Python uses `!=`"
   ]
  },
  {
   "cell_type": "code",
   "execution_count": 43,
   "id": "d26c6f2e-2373-4b6b-b2af-aaf967e4854a",
   "metadata": {},
   "outputs": [
    {
     "data": {
      "text/plain": [
       "True"
      ]
     },
     "execution_count": 43,
     "metadata": {},
     "output_type": "execute_result"
    }
   ],
   "source": [
    "5 != 4"
   ]
  },
  {
   "cell_type": "code",
   "execution_count": 45,
   "id": "be5e1dfa-7b2e-4289-a2fd-e615e04c5f34",
   "metadata": {},
   "outputs": [
    {
     "data": {
      "text/plain": [
       "False"
      ]
     },
     "execution_count": 45,
     "metadata": {},
     "output_type": "execute_result"
    }
   ],
   "source": [
    "4 != 4"
   ]
  },
  {
   "cell_type": "markdown",
   "id": "ea45c7e9-0523-4997-8ddf-309b69302ee2",
   "metadata": {},
   "source": [
    "### Logical operators"
   ]
  },
  {
   "cell_type": "markdown",
   "id": "b67c5ef9-ea56-42ef-bf6d-a5433d305b30",
   "metadata": {},
   "source": [
    "Implementing these operators will return a [**boolean**](https://en.wikipedia.org/wiki/Boolean_algebra) object: True or False."
   ]
  },
  {
   "cell_type": "markdown",
   "id": "cc2c37a9-a6c0-471c-a3d6-2fa581c9e4b7",
   "metadata": {},
   "source": [
    "`and` means both sides must be True to return True"
   ]
  },
  {
   "cell_type": "code",
   "execution_count": 50,
   "id": "35b57d98-3635-4df6-a4cd-a4e6d6e1d1b5",
   "metadata": {},
   "outputs": [
    {
     "data": {
      "text/plain": [
       "True"
      ]
     },
     "execution_count": 50,
     "metadata": {},
     "output_type": "execute_result"
    }
   ],
   "source": [
    "5 == 5 and 4 < 5"
   ]
  },
  {
   "cell_type": "markdown",
   "id": "d1ab7da1-ff2d-4b6c-a00c-0c7106bc38c6",
   "metadata": {},
   "source": [
    "`or` means only one side must be True to return True"
   ]
  },
  {
   "cell_type": "code",
   "execution_count": 53,
   "id": "6eee3759-3048-4dd2-a1c6-fdcd389bdd66",
   "metadata": {},
   "outputs": [
    {
     "data": {
      "text/plain": [
       "False"
      ]
     },
     "execution_count": 53,
     "metadata": {},
     "output_type": "execute_result"
    }
   ],
   "source": [
    "5 == 5 and 4 > 5"
   ]
  },
  {
   "cell_type": "markdown",
   "id": "c26318be-1c56-4620-ab50-a72e1a38979f",
   "metadata": {},
   "source": [
    "`not` is another logical operator. It reverses the boolean that follows it"
   ]
  },
  {
   "cell_type": "code",
   "execution_count": 56,
   "id": "175ede9b-b0fd-4a4d-b9a6-6b1f88825d5f",
   "metadata": {},
   "outputs": [
    {
     "data": {
      "text/plain": [
       "False"
      ]
     },
     "execution_count": 56,
     "metadata": {},
     "output_type": "execute_result"
    }
   ],
   "source": [
    "not True"
   ]
  },
  {
   "cell_type": "code",
   "execution_count": 58,
   "id": "4bed4ae4-8b49-468b-8005-defff27302c5",
   "metadata": {},
   "outputs": [
    {
     "data": {
      "text/plain": [
       "True"
      ]
     },
     "execution_count": 58,
     "metadata": {},
     "output_type": "execute_result"
    }
   ],
   "source": [
    "not False"
   ]
  },
  {
   "cell_type": "code",
   "execution_count": 60,
   "id": "828fd0c1-4caa-4de8-badc-f7dd6631463e",
   "metadata": {},
   "outputs": [
    {
     "data": {
      "text/plain": [
       "False"
      ]
     },
     "execution_count": 60,
     "metadata": {},
     "output_type": "execute_result"
    }
   ],
   "source": [
    "not 5 == 5"
   ]
  },
  {
   "cell_type": "code",
   "execution_count": 62,
   "id": "77508ef6-ea84-4b99-8a91-ee8f2a0ce811",
   "metadata": {},
   "outputs": [
    {
     "data": {
      "text/plain": [
       "True"
      ]
     },
     "execution_count": 62,
     "metadata": {},
     "output_type": "execute_result"
    }
   ],
   "source": [
    "not 4 > 5"
   ]
  },
  {
   "cell_type": "markdown",
   "id": "f9b2e9e4-1803-4c30-9756-08ca9aa3358e",
   "metadata": {
    "tags": []
   },
   "source": [
    "## Basic Data Types in Python"
   ]
  },
  {
   "cell_type": "markdown",
   "id": "bcddc50d-3966-46b8-bb69-a737544b12b3",
   "metadata": {},
   "source": [
    "### Integer and Float"
   ]
  },
  {
   "cell_type": "markdown",
   "id": "a47d5547-78e5-4b4b-a82e-af90cd0dcef5",
   "metadata": {},
   "source": [
    "The `type()` function is a widely used Python [built-in function](https://docs.python.org/3/library/stdtypes.html).\n",
    "\n",
    "The `type()` function returns the data type of an object."
   ]
  },
  {
   "cell_type": "code",
   "execution_count": 67,
   "id": "ad52c2ba-66e2-4e99-ba44-969a003fef4a",
   "metadata": {},
   "outputs": [
    {
     "data": {
      "text/plain": [
       "int"
      ]
     },
     "execution_count": 67,
     "metadata": {},
     "output_type": "execute_result"
    }
   ],
   "source": [
    "type(13)"
   ]
  },
  {
   "cell_type": "code",
   "execution_count": 69,
   "id": "e64c6807-10f7-41f9-a484-23a935212b1f",
   "metadata": {},
   "outputs": [
    {
     "data": {
      "text/plain": [
       "float"
      ]
     },
     "execution_count": 69,
     "metadata": {},
     "output_type": "execute_result"
    }
   ],
   "source": [
    "type(13.5)"
   ]
  },
  {
   "cell_type": "code",
   "execution_count": 71,
   "id": "c62fae5a-d732-4a84-82f0-c8c1ce37cee1",
   "metadata": {},
   "outputs": [
    {
     "data": {
      "text/plain": [
       "float"
      ]
     },
     "execution_count": 71,
     "metadata": {},
     "output_type": "execute_result"
    }
   ],
   "source": [
    "type(13.0)"
   ]
  },
  {
   "cell_type": "markdown",
   "id": "308a98da-146d-430b-87ce-d3a3c4fc9a97",
   "metadata": {},
   "source": [
    "Npte: 13.0 in **Python** is a float not an integer."
   ]
  },
  {
   "cell_type": "markdown",
   "id": "29d435cf-cf54-468a-9c4c-5976b559aeaa",
   "metadata": {},
   "source": [
    "### String"
   ]
  },
  {
   "cell_type": "markdown",
   "id": "d1d93176-a545-4982-a882-4792b0c4249f",
   "metadata": {},
   "source": [
    "A **string** is an object kind of like text. \n",
    "\n",
    "For common string operations, please refer to: https://docs.python.org/3/library/string.html\n",
    "\n",
    "It contains either double `\"` or single `'` quotes (you can choose which one you want to use)."
   ]
  },
  {
   "cell_type": "code",
   "execution_count": 76,
   "id": "294f6dab-8c42-43d4-988e-47418504c7b8",
   "metadata": {},
   "outputs": [
    {
     "data": {
      "text/plain": [
       "str"
      ]
     },
     "execution_count": 76,
     "metadata": {},
     "output_type": "execute_result"
    }
   ],
   "source": [
    "type(\"Hello, World!\")"
   ]
  },
  {
   "cell_type": "code",
   "execution_count": 78,
   "id": "2e67b160-a97e-4cf2-8ba1-317efe210166",
   "metadata": {},
   "outputs": [
    {
     "data": {
      "text/plain": [
       "str"
      ]
     },
     "execution_count": 78,
     "metadata": {},
     "output_type": "execute_result"
    }
   ],
   "source": [
    "type('Hello, World!')"
   ]
  },
  {
   "cell_type": "markdown",
   "id": "4a19f110-8627-487c-b7d3-a739c08a693f",
   "metadata": {},
   "source": [
    "The  `print()`function is another widely used Python [built-in function](https://docs.python.org/3/library/stdtypes.html).\n",
    "\n",
    "This function can be used on almost all classes of objects."
   ]
  },
  {
   "cell_type": "code",
   "execution_count": 81,
   "id": "c07331e8-e3c0-4100-9b57-84f62cf1ef79",
   "metadata": {},
   "outputs": [
    {
     "name": "stdout",
     "output_type": "stream",
     "text": [
      "Hello,World.\n"
     ]
    }
   ],
   "source": [
    "print(\"Hello,World.\")"
   ]
  },
  {
   "cell_type": "code",
   "execution_count": 181,
   "id": "1753fe47-155c-4dcb-a3ac-c6833d3f3c05",
   "metadata": {},
   "outputs": [
    {
     "name": "stdout",
     "output_type": "stream",
     "text": [
      "150\n"
     ]
    }
   ],
   "source": [
    "print(150)"
   ]
  },
  {
   "cell_type": "code",
   "execution_count": 183,
   "id": "51a41ddc-8490-41c1-a2cf-66e6d7ce2104",
   "metadata": {},
   "outputs": [
    {
     "name": "stdout",
     "output_type": "stream",
     "text": [
      "18.5\n"
     ]
    }
   ],
   "source": [
    "print(18.5)"
   ]
  },
  {
   "cell_type": "code",
   "execution_count": 185,
   "id": "7fe513d0-353c-40d2-8d93-5b504abcb755",
   "metadata": {},
   "outputs": [
    {
     "name": "stdout",
     "output_type": "stream",
     "text": [
      "90.5\n"
     ]
    }
   ],
   "source": [
    "print(18 + 72.5)"
   ]
  },
  {
   "cell_type": "markdown",
   "id": "555d390a-78d5-4188-a3ee-279c10cf880b",
   "metadata": {},
   "source": [
    "What is the type of  `\"12\"`?"
   ]
  },
  {
   "cell_type": "code",
   "execution_count": 84,
   "id": "a62554c1-4b77-4a20-bb11-b3a70e5ac8c8",
   "metadata": {},
   "outputs": [],
   "source": [
    "# Check the data type \"12\" using type()\n"
   ]
  },
  {
   "cell_type": "markdown",
   "id": "f4246d12-eb42-4e29-919e-0e1a119da3c0",
   "metadata": {},
   "source": [
    "#### Special Characters in String"
   ]
  },
  {
   "cell_type": "markdown",
   "id": "89304338-f25a-4cb9-907a-b913f8f2341a",
   "metadata": {},
   "source": [
    "Strings can contain **special characters**. These start with a backslash. The backslash can also be called the **escape character**. \n",
    "\n",
    "The most commonly used special characters are new lines `\\n`:"
   ]
  },
  {
   "cell_type": "code",
   "execution_count": 88,
   "id": "f6221c36-a870-4d3c-b3c2-6d427176186c",
   "metadata": {},
   "outputs": [
    {
     "name": "stdout",
     "output_type": "stream",
     "text": [
      "Hello, World\n",
      "Where am I?\n"
     ]
    }
   ],
   "source": [
    "print(\"Hello, World\\nWhere am I?\")"
   ]
  },
  {
   "cell_type": "markdown",
   "id": "d6b4d31e-6d4f-4400-bd5b-34e3e1cee203",
   "metadata": {},
   "source": [
    "tab `\\t` adds space between strings."
   ]
  },
  {
   "cell_type": "code",
   "execution_count": 91,
   "id": "fe41f07e-d3a0-4d96-a1a0-0afd0239a52f",
   "metadata": {},
   "outputs": [
    {
     "name": "stdout",
     "output_type": "stream",
     "text": [
      "Hello World\tWhere am I?\n"
     ]
    }
   ],
   "source": [
    "print(\"Hello World\\tWhere am I?\")"
   ]
  },
  {
   "cell_type": "markdown",
   "id": "2f579543-5979-47cb-92ef-596e9d256005",
   "metadata": {},
   "source": [
    "Note: the special chartacters only apply by calling the `print()` function."
   ]
  },
  {
   "cell_type": "code",
   "execution_count": 94,
   "id": "4abd922a-5e72-4b7e-96f7-272de2cd4224",
   "metadata": {},
   "outputs": [
    {
     "data": {
      "text/plain": [
       "'Hello, World\\nWhere am I?'"
      ]
     },
     "execution_count": 94,
     "metadata": {},
     "output_type": "execute_result"
    }
   ],
   "source": [
    "\"Hello, World\\nWhere am I?\""
   ]
  },
  {
   "cell_type": "code",
   "execution_count": 96,
   "id": "d6b39f37-643b-4d9f-96af-369e860929ef",
   "metadata": {},
   "outputs": [
    {
     "data": {
      "text/plain": [
       "'Hello World\\tWhere am I?'"
      ]
     },
     "execution_count": 96,
     "metadata": {},
     "output_type": "execute_result"
    }
   ],
   "source": [
    "\"Hello World\\tWhere am I?\""
   ]
  },
  {
   "cell_type": "markdown",
   "id": "428d2c2f-cf99-47f1-aa1a-d7ea3da8a3e6",
   "metadata": {},
   "source": [
    "### List"
   ]
  },
  {
   "cell_type": "markdown",
   "id": "3ac046ef-4c31-4abe-80c0-0a735da88e84",
   "metadata": {},
   "source": [
    "- A list is a collection of objects kept in a strict order. \n",
    "\n",
    "- A list is surrounded by square brackets. \n",
    "\n",
    "- Items in the list (often called elements) are separated by commas.\n",
    "\n",
    "- A list can contain any type of object"
   ]
  },
  {
   "cell_type": "code",
   "execution_count": 101,
   "id": "353cf431-2ea4-412d-b0d0-dfd9a5063633",
   "metadata": {},
   "outputs": [],
   "source": [
    "# A list of integers and floats\n",
    "heights = [160, 161, 165.5, 167.8, 175, 170.4, 180, 177,7]"
   ]
  },
  {
   "cell_type": "code",
   "execution_count": 103,
   "id": "cba86180-1da0-4324-8179-2f01ddbce0b7",
   "metadata": {},
   "outputs": [],
   "source": [
    "# A list of string\n",
    "name = ['Adam', 'Ben', 'Charlie', 'David', 'Edward', 'Frank', 'Greg', 'Henry']"
   ]
  },
  {
   "cell_type": "code",
   "execution_count": 105,
   "id": "50e0d6c3-9cc1-4474-95e5-58edf1d1a4fd",
   "metadata": {},
   "outputs": [],
   "source": [
    "# A list of mixture of numbers and string\n",
    "name_weight = ['Iris', 80, 'Lenny', 90, 'Michael', 95]"
   ]
  },
  {
   "cell_type": "code",
   "execution_count": 107,
   "id": "2ad89540-c345-449a-ad6d-586328e093fe",
   "metadata": {},
   "outputs": [
    {
     "data": {
      "text/plain": [
       "list"
      ]
     },
     "execution_count": 107,
     "metadata": {},
     "output_type": "execute_result"
    }
   ],
   "source": [
    "type(heights)"
   ]
  },
  {
   "cell_type": "code",
   "execution_count": 109,
   "id": "3b276f61-8925-4486-a6f6-527b61371c4d",
   "metadata": {},
   "outputs": [
    {
     "data": {
      "text/plain": [
       "list"
      ]
     },
     "execution_count": 109,
     "metadata": {},
     "output_type": "execute_result"
    }
   ],
   "source": [
    "type(name)"
   ]
  },
  {
   "cell_type": "code",
   "execution_count": 111,
   "id": "9efaca90-cd80-44c6-a97a-8306ecd075a6",
   "metadata": {},
   "outputs": [
    {
     "data": {
      "text/plain": [
       "list"
      ]
     },
     "execution_count": 111,
     "metadata": {},
     "output_type": "execute_result"
    }
   ],
   "source": [
    "type(name_weight)"
   ]
  },
  {
   "cell_type": "markdown",
   "id": "4c6a438c-d2fc-47bf-b66f-5987a3442670",
   "metadata": {},
   "source": [
    "For a list of lists, it is called a **nested list**\n",
    "\n",
    "The list **name_weight*# is better to intepret into a  **nested list**"
   ]
  },
  {
   "cell_type": "code",
   "execution_count": 114,
   "id": "289af7b6-af53-4347-b60b-6cb172c11f20",
   "metadata": {},
   "outputs": [],
   "source": [
    "nested_name_weight = [['Iris','Lenny', 'Michael'], [80, 90, 95]]"
   ]
  },
  {
   "cell_type": "code",
   "execution_count": 116,
   "id": "c08c64f2-1d9a-44c9-bfb9-4d8ec3d18752",
   "metadata": {},
   "outputs": [
    {
     "data": {
      "text/plain": [
       "list"
      ]
     },
     "execution_count": 116,
     "metadata": {},
     "output_type": "execute_result"
    }
   ],
   "source": [
    "type(nested_name_weight)"
   ]
  },
  {
   "cell_type": "markdown",
   "id": "4f3b0c03-cf9a-4a3c-a342-3febb05ff881",
   "metadata": {},
   "source": [
    "Create (initialize) a new empty list"
   ]
  },
  {
   "cell_type": "code",
   "execution_count": 119,
   "id": "f247f895-46ce-43e7-85c5-e4aab9290975",
   "metadata": {},
   "outputs": [],
   "source": [
    "alist = []"
   ]
  },
  {
   "cell_type": "code",
   "execution_count": 121,
   "id": "88746b0d-e98a-44c9-a3c2-6a26c58019ab",
   "metadata": {},
   "outputs": [],
   "source": [
    "blist = list()"
   ]
  },
  {
   "cell_type": "code",
   "execution_count": 123,
   "id": "492e1a39-99d9-4f2e-8f98-097741ea2740",
   "metadata": {},
   "outputs": [
    {
     "data": {
      "text/plain": [
       "list"
      ]
     },
     "execution_count": 123,
     "metadata": {},
     "output_type": "execute_result"
    }
   ],
   "source": [
    "type(alist)"
   ]
  },
  {
   "cell_type": "code",
   "execution_count": 125,
   "id": "6496373a-118c-42a4-a0a5-bbeffceafb62",
   "metadata": {},
   "outputs": [
    {
     "data": {
      "text/plain": [
       "list"
      ]
     },
     "execution_count": 125,
     "metadata": {},
     "output_type": "execute_result"
    }
   ],
   "source": [
    "type(blist)"
   ]
  },
  {
   "cell_type": "markdown",
   "id": "156e6713-0a09-4648-8d84-f678d1a3678c",
   "metadata": {},
   "source": [
    "The Python built-in `len()` function can apply on strings and lists.\n",
    "\n",
    "The function will return the length of a string or the number of elements of a list."
   ]
  },
  {
   "cell_type": "code",
   "execution_count": 128,
   "id": "12030486-ab3e-49cc-bfeb-dfe373a83715",
   "metadata": {},
   "outputs": [
    {
     "data": {
      "text/plain": [
       "5"
      ]
     },
     "execution_count": 128,
     "metadata": {},
     "output_type": "execute_result"
    }
   ],
   "source": [
    "len(\"Hello\")"
   ]
  },
  {
   "cell_type": "code",
   "execution_count": 130,
   "id": "79a7ee08-13f5-42c0-879e-003bd85a4c47",
   "metadata": {},
   "outputs": [
    {
     "data": {
      "text/plain": [
       "13"
      ]
     },
     "execution_count": 130,
     "metadata": {},
     "output_type": "execute_result"
    }
   ],
   "source": [
    "len(\"Hello World!/\")"
   ]
  },
  {
   "cell_type": "markdown",
   "id": "41c107d9-5fb0-4b24-9762-1e6780e53bbb",
   "metadata": {},
   "source": [
    "Note: The space and the punctuation are also counted!"
   ]
  },
  {
   "cell_type": "code",
   "execution_count": 133,
   "id": "c5c342e5-a0f4-43b0-8623-b097edcb8ca3",
   "metadata": {},
   "outputs": [
    {
     "data": {
      "text/plain": [
       "0"
      ]
     },
     "execution_count": 133,
     "metadata": {},
     "output_type": "execute_result"
    }
   ],
   "source": [
    "# empty list has no element\n",
    "len(alist)"
   ]
  },
  {
   "cell_type": "code",
   "execution_count": 135,
   "id": "dbd6d8fa-3e9e-43df-914c-848e21a0d7b7",
   "metadata": {},
   "outputs": [
    {
     "data": {
      "text/plain": [
       "9"
      ]
     },
     "execution_count": 135,
     "metadata": {},
     "output_type": "execute_result"
    }
   ],
   "source": [
    "len(heights)"
   ]
  },
  {
   "cell_type": "markdown",
   "id": "5b014282-9586-4662-9b0b-ee35cccb1902",
   "metadata": {},
   "source": [
    "For more list operations, please refer to: https://docs.python.org/3/tutorial/datastructures.html"
   ]
  },
  {
   "cell_type": "code",
   "execution_count": 192,
   "id": "75c7af6c-cc31-435d-9de4-0766d7420846",
   "metadata": {},
   "outputs": [
    {
     "name": "stdout",
     "output_type": "stream",
     "text": [
      "[160, 161, 165.5, 167.8, 175, 170.4, 180, 177, 7, 187.6]\n"
     ]
    }
   ],
   "source": [
    "# Example: .append() method\n",
    "# .append() is a method to add an element to the end of the list. \n",
    "heights.append(187.6)\n",
    "print(heights)"
   ]
  },
  {
   "cell_type": "markdown",
   "id": "ff410e58-5220-40e4-9134-7f304b77958e",
   "metadata": {},
   "source": [
    "Note: List is  **mutable** object."
   ]
  },
  {
   "cell_type": "markdown",
   "id": "b92c66b8-6bbd-4607-a96b-6b3c47311161",
   "metadata": {
    "tags": []
   },
   "source": [
    "## Functions in Python"
   ]
  },
  {
   "cell_type": "markdown",
   "id": "8a95fd30-658b-491d-aaca-283cb9bd7b17",
   "metadata": {},
   "source": [
    "You can write your own custom functions in **Python**.\n",
    "\n",
    "We've already learned about built-in functions, such as `print()` `type()`, and `len()`."
   ]
  },
  {
   "cell_type": "markdown",
   "id": "380c6d6e-3773-419b-ac7b-af2bea091dde",
   "metadata": {},
   "source": [
    "To write a function, we should start with a **def statement**.\n",
    "\n",
    "It is highly recommended to include a [**docstring**](https://pandas.pydata.org/docs/development/contributing_docstring.html#) that says your function's inputs, outputs, and a short description (inside the indentation).\n",
    "\n",
    "Next (still inside the def statement), you write the code for what the function does.\n",
    "\n",
    "Finally, we need to include a **return statement** if we want our function to return the value of an object created inside the function."
   ]
  },
  {
   "cell_type": "code",
   "execution_count": 140,
   "id": "ac2fbae7-a7a5-4ebc-a961-46935b341ebb",
   "metadata": {},
   "outputs": [],
   "source": [
    "def area(length, width):\n",
    "    '''\n",
    "    This function takes a length and width of a rectangle and returns the area.\n",
    "    \n",
    "    input: length (int or float), width (int or float)\n",
    "\n",
    "    output: the product of length and width\n",
    "    \n",
    "    '''\n",
    "    \n",
    "    answer = length * width\n",
    "    \n",
    "    return answer"
   ]
  },
  {
   "cell_type": "code",
   "execution_count": 142,
   "id": "0e3913ff-92d3-46db-a3d5-a32a6dc0ecdd",
   "metadata": {},
   "outputs": [
    {
     "data": {
      "text/plain": [
       "20"
      ]
     },
     "execution_count": 142,
     "metadata": {},
     "output_type": "execute_result"
    }
   ],
   "source": [
    "area(5, 4)"
   ]
  },
  {
   "cell_type": "code",
   "execution_count": 144,
   "id": "2983d3a7-6b40-4a4b-9567-fdd38a7e17be",
   "metadata": {},
   "outputs": [
    {
     "ename": "TypeError",
     "evalue": "area() missing 1 required positional argument: 'width'",
     "output_type": "error",
     "traceback": [
      "\u001b[0;31m---------------------------------------------------------------------------\u001b[0m",
      "\u001b[0;31mTypeError\u001b[0m                                 Traceback (most recent call last)",
      "\u001b[0;32m/var/folders/xl/xzk9t6kn3ps3psv1g1vtb9wm0000gn/T/ipykernel_59111/1941143880.py\u001b[0m in \u001b[0;36m<module>\u001b[0;34m\u001b[0m\n\u001b[0;32m----> 1\u001b[0;31m \u001b[0marea\u001b[0m\u001b[0;34m(\u001b[0m\u001b[0;36m5\u001b[0m\u001b[0;34m)\u001b[0m\u001b[0;34m\u001b[0m\u001b[0;34m\u001b[0m\u001b[0m\n\u001b[0m",
      "\u001b[0;31mTypeError\u001b[0m: area() missing 1 required positional argument: 'width'"
     ]
    }
   ],
   "source": [
    "area(5)"
   ]
  },
  {
   "cell_type": "code",
   "execution_count": 146,
   "id": "e3332db1-5433-4509-8ed0-d0757108af7d",
   "metadata": {},
   "outputs": [
    {
     "ename": "TypeError",
     "evalue": "area() missing 1 required positional argument: 'width'",
     "output_type": "error",
     "traceback": [
      "\u001b[0;31m---------------------------------------------------------------------------\u001b[0m",
      "\u001b[0;31mTypeError\u001b[0m                                 Traceback (most recent call last)",
      "\u001b[0;32m/var/folders/xl/xzk9t6kn3ps3psv1g1vtb9wm0000gn/T/ipykernel_59111/3076261075.py\u001b[0m in \u001b[0;36m<module>\u001b[0;34m\u001b[0m\n\u001b[0;32m----> 1\u001b[0;31m \u001b[0marea\u001b[0m\u001b[0;34m(\u001b[0m\u001b[0;34m'5'\u001b[0m\u001b[0;34m)\u001b[0m\u001b[0;34m\u001b[0m\u001b[0;34m\u001b[0m\u001b[0m\n\u001b[0m",
      "\u001b[0;31mTypeError\u001b[0m: area() missing 1 required positional argument: 'width'"
     ]
    }
   ],
   "source": [
    "area('5')"
   ]
  },
  {
   "cell_type": "code",
   "execution_count": 148,
   "id": "100c7583-78dc-4e79-ab9e-543fcca62e94",
   "metadata": {},
   "outputs": [
    {
     "ename": "TypeError",
     "evalue": "can't multiply sequence by non-int of type 'str'",
     "output_type": "error",
     "traceback": [
      "\u001b[0;31m---------------------------------------------------------------------------\u001b[0m",
      "\u001b[0;31mTypeError\u001b[0m                                 Traceback (most recent call last)",
      "\u001b[0;32m/var/folders/xl/xzk9t6kn3ps3psv1g1vtb9wm0000gn/T/ipykernel_59111/3461905899.py\u001b[0m in \u001b[0;36m<module>\u001b[0;34m\u001b[0m\n\u001b[0;32m----> 1\u001b[0;31m \u001b[0marea\u001b[0m\u001b[0;34m(\u001b[0m\u001b[0;34m'5'\u001b[0m\u001b[0;34m,\u001b[0m\u001b[0;34m'6'\u001b[0m\u001b[0;34m)\u001b[0m\u001b[0;34m\u001b[0m\u001b[0;34m\u001b[0m\u001b[0m\n\u001b[0m",
      "\u001b[0;32m/var/folders/xl/xzk9t6kn3ps3psv1g1vtb9wm0000gn/T/ipykernel_59111/2683806215.py\u001b[0m in \u001b[0;36marea\u001b[0;34m(length, width)\u001b[0m\n\u001b[1;32m      9\u001b[0m     '''\n\u001b[1;32m     10\u001b[0m \u001b[0;34m\u001b[0m\u001b[0m\n\u001b[0;32m---> 11\u001b[0;31m     \u001b[0manswer\u001b[0m \u001b[0;34m=\u001b[0m \u001b[0mlength\u001b[0m \u001b[0;34m*\u001b[0m \u001b[0mwidth\u001b[0m\u001b[0;34m\u001b[0m\u001b[0;34m\u001b[0m\u001b[0m\n\u001b[0m\u001b[1;32m     12\u001b[0m \u001b[0;34m\u001b[0m\u001b[0m\n\u001b[1;32m     13\u001b[0m     \u001b[0;32mreturn\u001b[0m \u001b[0manswer\u001b[0m\u001b[0;34m\u001b[0m\u001b[0;34m\u001b[0m\u001b[0m\n",
      "\u001b[0;31mTypeError\u001b[0m: can't multiply sequence by non-int of type 'str'"
     ]
    }
   ],
   "source": [
    "area('5','6')"
   ]
  },
  {
   "cell_type": "markdown",
   "id": "f2eec25b-f327-452a-916b-bdae196283d4",
   "metadata": {},
   "source": [
    "Since the user can input all types of data into the function, the function can be revised to better accommodate such cases."
   ]
  },
  {
   "cell_type": "markdown",
   "id": "9daf7355-46b7-4eb1-944b-371b72931693",
   "metadata": {},
   "source": [
    "## Reference:\n",
    "\n",
    "[**NICO 101: Introduction to Programming for Big Data**](https://www.nico.northwestern.edu/education/nico-101-0-introduction-to-programming-for-big-data.html)\n",
    "\n",
    "[**Northwesten Research Computing and Data Services**](https://www.it.northwestern.edu/departments/it-services-support/research/training-and-consultation/)"
   ]
  },
  {
   "cell_type": "markdown",
   "id": "2a2d153a-041d-4c7c-933c-3cfda95eddae",
   "metadata": {},
   "source": [
    "If you need a comprehensive overview of Python Programming, check the above references and find the resources best fit for your schedule (available if you are enrolled student or staff at Northwestern University). "
   ]
  }
 ],
 "metadata": {
  "kernelspec": {
   "display_name": "Python 3 (ipykernel)",
   "language": "python",
   "name": "python3"
  },
  "language_info": {
   "codemirror_mode": {
    "name": "ipython",
    "version": 3
   },
   "file_extension": ".py",
   "mimetype": "text/x-python",
   "name": "python",
   "nbconvert_exporter": "python",
   "pygments_lexer": "ipython3",
   "version": "3.9.12"
  }
 },
 "nbformat": 4,
 "nbformat_minor": 5
}
